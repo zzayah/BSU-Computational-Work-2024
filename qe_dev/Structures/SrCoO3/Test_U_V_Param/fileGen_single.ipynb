{
 "cells": [
  {
   "cell_type": "code",
   "execution_count": 1,
   "metadata": {},
   "outputs": [],
   "source": [
    "from ase.build import surface\n",
    "from ase.io import write\n",
    "from ase.visualize import view\n",
    "from ase.build import make_supercell\n",
    "from ase.io import read\n",
    "from ase.build import make_supercell, surface\n",
    "from ase.calculators.espresso import Espresso\n",
    "from ase.atom import Atom\n",
    "from ase.build import add_adsorbate\n",
    "import pandas as pd\n",
    "import csv\n",
    "from ase import io\n",
    "import os\n",
    "import os \n",
    "import shutil\n",
    "from ase import io\n",
    "from ase.build import add_adsorbate\n",
    "from ase.calculators.espresso import Espresso\n",
    "from ase import atoms\n",
    "from ase.build import bulk\n",
    "from ase.calculators.espresso import Espresso, EspressoProfile\n",
    "from ase.optimize import LBFGS\n"
   ]
  },
  {
   "cell_type": "code",
   "execution_count": 2,
   "metadata": {},
   "outputs": [],
   "source": [
    "# Directory perameters\n",
    "material = \"../struct_variants/SrCoO3_A.xyz\"\n",
    "\n",
    "# Cluster peram\n",
    "cluster_name = \"zayahcortright\"\n",
    "\n",
    "# Define aborbate name(s)\n",
    "options = [\"O\", \"H\", \"OOH\", \"OH\", \"H2O\", None]\n",
    "abs_name = options[5]"
   ]
  },
  {
   "cell_type": "code",
   "execution_count": 3,
   "metadata": {},
   "outputs": [
    {
     "data": {
      "text/plain": [
       "'../struct_variants/SrCoO3_A_None'"
      ]
     },
     "execution_count": 3,
     "metadata": {},
     "output_type": "execute_result"
    }
   ],
   "source": [
    "save_dir = f\"{material[:-4]}_{abs_name}\"\n",
    "\n",
    "save_dir"
   ]
  },
  {
   "cell_type": "code",
   "execution_count": 4,
   "metadata": {},
   "outputs": [],
   "source": [
    "# QE perameters\n",
    "\n",
    "# Pseudopotentials\n",
    "pseudopotentials = {\n",
    "    'Ti': 'Ti.pbe-spn-kjpaw_psl.1.0.0.UPF',\n",
    "    \"La\": \"La.paw.z_11.atompaw.wentzcovitch.v1.2.upf\",\n",
    "    \"Co\": \"Co_pbe_v1.2.uspp.F.UPF\",\n",
    "    \"O\": \"O.pbe-n-kjpaw_psl.0.1.UPF\",\n",
    "    \"H\": \"H.pbe-rrkjus_psl.1.0.0.UPF\",\n",
    "    \"Sr\": \"Sr_pbe_v1.uspp.F.UPF\"\n",
    "}\n",
    "\n",
    "# Input data for QE .pwi files\n",
    "input_data = {\n",
    "    'system': {\n",
    "        'ecutwfc': 60, \n",
    "        'ecutrho': 480,\n",
    "    },\n",
    "    'control': {\n",
    "        'calculation': 'scf',\n",
    "        'restart_mode': 'from_scratch',\n",
    "        'prefix': 'pwscf',\n",
    "        'outdir': f'bsuhome/{cluster_name}/scratch',\n",
    "        'disk_io': 'low',\n",
    "        'verbosity': 'high'\n",
    "    },\n",
    "    'electrons': {\n",
    "        'conv_thr': 1e-8,\n",
    "        'mixing_mode': 'local-TF',\n",
    "        'mixing_beta': 0.35,\n",
    "        'diagonalization': 'david',\n",
    "    }\n",
    "}"
   ]
  },
  {
   "cell_type": "code",
   "execution_count": 10,
   "metadata": {},
   "outputs": [],
   "source": [
    "# Generate one imput file with no absorbate if abs_name is None\n",
    "\n",
    "profile = EspressoProfile(\n",
    "    command=\"\",\n",
    "    pseudo_dir=f\"/bsuhome/{cluster_name}/q-e/pseudo\"\n",
    ")\n",
    "\n",
    "mat = io.read(material)\n",
    "\n",
    "# Create calculator object\n",
    "calc = Espresso(\n",
    "    profile=profile,\n",
    "    pseudopotentials=pseudopotentials,\n",
    "    input_data=input_data,\n",
    "    kpts=(4, 4, 1),\n",
    "    koffset=(0, 0, 0),\n",
    ")\n",
    "\n",
    "# Set the calculator and write input\n",
    "read_material.calc = calc\n",
    "\n",
    "io.espresso.write_espresso_in(os.path.join(\"espresso.pwi\"), read_material,\n",
    "                                input_data=input_data, pseudopotentials=pseudopotentials, kpts=(4, 4, 1), koffset=(0, 0, 0))\n",
    "# Restore the material to its previous state\n",
    "read_material = mat.copy()"
   ]
  },
  {
   "cell_type": "code",
   "execution_count": null,
   "metadata": {},
   "outputs": [],
   "source": []
  }
 ],
 "metadata": {
  "kernelspec": {
   "display_name": ".venv",
   "language": "python",
   "name": "python3"
  },
  "language_info": {
   "codemirror_mode": {
    "name": "ipython",
    "version": 3
   },
   "file_extension": ".py",
   "mimetype": "text/x-python",
   "name": "python",
   "nbconvert_exporter": "python",
   "pygments_lexer": "ipython3",
   "version": "3.12.3"
  }
 },
 "nbformat": 4,
 "nbformat_minor": 2
}
