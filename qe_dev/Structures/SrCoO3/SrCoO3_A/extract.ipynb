{
 "cells": [
  {
   "cell_type": "code",
   "execution_count": 1,
   "metadata": {},
   "outputs": [],
   "source": [
    "import os\n",
    "import re\n",
    "import pandas as pd\n",
    "\n",
    "def _extract_energy_from_file(file_path):\n",
    "    with open(file_path, \"r\") as f:\n",
    "        lines = f.readlines()\n",
    "        for line in lines:\n",
    "            if \"!    total energy\" in line:\n",
    "                # Extract the energy value using regex\n",
    "                energy = re.search(r\"[-+]?\\d*\\.\\d+|\\d+\", line)\n",
    "                if energy:\n",
    "                    return float(energy.group(0))\n",
    "    return None\n",
    "\n",
    "def _process_folders(base_folder, start, end, df):\n",
    "    for i in range(start, end):\n",
    "        for j in range(0, 8):\n",
    "            folder_name = f\"{i}-{j}\"\n",
    "            folder_path = os.path.join(base_folder, folder_name)\n",
    "            if os.path.isdir(folder_path):\n",
    "                file_path = os.path.join(folder_path, \"espresso.pwo\")\n",
    "                if os.path.isfile(file_path):\n",
    "                    energy = _extract_energy_from_file(file_path)\n",
    "                    if energy is not None:\n",
    "                        df.loc[len(df)] = [i, j, energy]\n",
    "\n",
    "def Extract(file_path, absorbates=None):\n",
    "    absorbates = absorbates if absorbates else [\"O\", \"H\", \"OOH\", \"OH\"]\n",
    "\n",
    "    # Check if file_path is a filepath or just a filename\n",
    "    if os.path.dirname(file_path):\n",
    "        raise ValueError(\"Inputted file_path should be the name of your material.\")\n",
    "    \n",
    "    save_dirs = []\n",
    "    # Extract the material name from the file path (e.g., SrCoO3 from SrCoO3.xyz)\n",
    "    material_name = os.path.basename(file_path).replace('.xyz', '')\n",
    "    for absorbate in absorbates:\n",
    "        # Create directory names based on the material and absorbates\n",
    "        save_dirs.append(f\"{material_name}_{absorbate}\")\n",
    "\n",
    "    current_dir = os.getcwd()  # Get the current working directory\n",
    "    for folder in save_dirs:\n",
    "        # Initialize the dataframe\n",
    "        df = pd.DataFrame(columns=[\"x\", \"y\", \"SCF\"])\n",
    "\n",
    "        # Process folders in \"0\"\n",
    "        _process_folders(os.path.join(folder, \"0\"), 0, 4, df)\n",
    "\n",
    "        # Process folders in \"1\"\n",
    "        _process_folders(os.path.join(folder, \"1\"), 4, 8, df)\n",
    "\n",
    "        # Save the dataframe to a CSV file in the current directory\n",
    "        df.to_csv(os.path.join(current_dir, f\"{folder}_OUT.csv\"), index=False)"
   ]
  },
  {
   "cell_type": "code",
   "execution_count": 2,
   "metadata": {},
   "outputs": [],
   "source": [
    "Extract(\"SrCoO3_A\")"
   ]
  },
  {
   "cell_type": "code",
   "execution_count": null,
   "metadata": {},
   "outputs": [],
   "source": []
  }
 ],
 "metadata": {
  "kernelspec": {
   "display_name": ".venv",
   "language": "python",
   "name": "python3"
  },
  "language_info": {
   "codemirror_mode": {
    "name": "ipython",
    "version": 3
   },
   "file_extension": ".py",
   "mimetype": "text/x-python",
   "name": "python",
   "nbconvert_exporter": "python",
   "pygments_lexer": "ipython3",
   "version": "3.12.3"
  }
 },
 "nbformat": 4,
 "nbformat_minor": 2
}
