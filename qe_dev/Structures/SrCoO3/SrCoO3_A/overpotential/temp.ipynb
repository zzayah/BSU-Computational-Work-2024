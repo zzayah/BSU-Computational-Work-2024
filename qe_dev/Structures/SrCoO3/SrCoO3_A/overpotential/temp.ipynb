{
 "cells": [
  {
   "cell_type": "code",
   "execution_count": 1,
   "metadata": {},
   "outputs": [],
   "source": [
    "# import espresso from ase\n",
    "from ase import Atoms\n",
    "from ase.build import bulk\n",
    "from ase.calculators.espresso import Espresso, EspressoProfile\n",
    "from ase import io\n",
    "import os\n",
    "from ase.io import write\n",
    "\n"
   ]
  },
  {
   "cell_type": "code",
   "execution_count": 3,
   "metadata": {},
   "outputs": [],
   "source": [
    "profile = EspressoProfile(\n",
    "    command=\"\",\n",
    "    pseudo_dir=\"/bsuhome/zayahcortright/q-e/pseudo\",\n",
    ")\n",
    "\n",
    "# All SSSP_acc_PBE Psuedopotentials for QE\n",
    "pseudopotentials = {\n",
    "    'Ti': 'Ti.pbe-spn-kjpaw_psl.1.0.0.UPF',\n",
    "    'O': 'O.pbe-n-kjpaw_psl.0.1.UPF',\n",
    "    'Sr': 'Sr_pbe_v1.uspp.F.UPF',\n",
    "}\n",
    "\n",
    "input_data = {\n",
    "    'system': {\n",
    "        'ecutwfc': 60,\n",
    "        'ecutrho': 480,\n",
    "        'occupations': 'smearing',\n",
    "        'smearing': 'gaussian',\n",
    "        'degauss': 0.07,\n",
    "    },\n",
    "    'control': {\n",
    "        'calculation': 'scf',\n",
    "        'restart_mode': 'from_scratch',\n",
    "        'prefix': 'pwscf',\n",
    "        'outdir': '/scratch',\n",
    "        'disk_io': 'low',\n",
    "        'verbosity': 'high'\n",
    "    },\n",
    "    'electrons': {\n",
    "        'conv_thr': 1e-8,\n",
    "        'mixing_mode': 'local-TF',\n",
    "        'electron_maxstep': 200,\n",
    "        'mixing_beta': 0.15,\n",
    "        'diagonalization': 'david',\n",
    "    }\n",
    "}\n",
    "\n",
    "read_material = io.read(\"SrTiO3_A.xyz\")\n",
    "\n",
    "calc = Espresso(\n",
    "    profile=profile,\n",
    "    pseudopotentials=pseudopotentials,\n",
    "    input_data=input_data,\n",
    "    kpts=(4, 4, 1),\n",
    "    koffset=(0, 0, 0),\n",
    ")\n",
    "\n",
    "read_material.calc = calc\n",
    "io.espresso.write_espresso_in(\n",
    "    \"espresso.pwi\",\n",
    "    read_material,\n",
    "    input_data=input_data,\n",
    "    pseudopotentials=pseudopotentials,\n",
    "    kpts=(4, 4, 1),\n",
    "    koffset=(0, 0, 0)\n",
    ")\n"
   ]
  },
  {
   "cell_type": "code",
   "execution_count": null,
   "metadata": {},
   "outputs": [],
   "source": []
  }
 ],
 "metadata": {
  "kernelspec": {
   "display_name": ".venv",
   "language": "python",
   "name": "python3"
  },
  "language_info": {
   "codemirror_mode": {
    "name": "ipython",
    "version": 3
   },
   "file_extension": ".py",
   "mimetype": "text/x-python",
   "name": "python",
   "nbconvert_exporter": "python",
   "pygments_lexer": "ipython3",
   "version": "3.12.3"
  }
 },
 "nbformat": 4,
 "nbformat_minor": 2
}
