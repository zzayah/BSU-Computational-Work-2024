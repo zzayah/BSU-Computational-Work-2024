{
 "cells": [
  {
   "cell_type": "code",
   "execution_count": 9,
   "metadata": {},
   "outputs": [],
   "source": [
    "# Extracts .out files from file tree which is to be saved to Mapsy Data Repo\n",
    "\n",
    "import os\n",
    "import shutil\n",
    "\n",
    "def rename_and_move_files(root_folder, output_folder):\n",
    "    # Ensure the output folder exists\n",
    "    os.makedirs(output_folder, exist_ok=True)\n",
    "    \n",
    "    count = 0\n",
    "    for root, dirs, files in os.walk(root_folder):\n",
    "        for file in files:\n",
    "            if file == \"espresso.pwo\":\n",
    "                new_filename = f\"{count}.pwo\"\n",
    "                new_filepath = os.path.join(output_folder, new_filename)\n",
    "                shutil.copy2(os.path.join(root, file), new_filepath)\n",
    "                count += 1\n",
    "\n",
    "# Example usage:\n",
    "root_folder = \"./SrCoO3_A_OOH\"\n",
    "output_folder = \"./SrCoO3_ASite_Uniform_OOH\"\n",
    "rename_and_move_files(root_folder, output_folder)\n"
   ]
  },
  {
   "cell_type": "code",
   "execution_count": null,
   "metadata": {},
   "outputs": [],
   "source": []
  }
 ],
 "metadata": {
  "kernelspec": {
   "display_name": ".venv",
   "language": "python",
   "name": "python3"
  },
  "language_info": {
   "codemirror_mode": {
    "name": "ipython",
    "version": 3
   },
   "file_extension": ".py",
   "mimetype": "text/x-python",
   "name": "python",
   "nbconvert_exporter": "python",
   "pygments_lexer": "ipython3",
   "version": "3.12.3"
  }
 },
 "nbformat": 4,
 "nbformat_minor": 2
}
