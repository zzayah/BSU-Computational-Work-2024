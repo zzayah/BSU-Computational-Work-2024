{
 "cells": [
  {
   "cell_type": "markdown",
   "metadata": {},
   "source": [
    "# NOTES/UPDATES"
   ]
  },
  {
   "cell_type": "markdown",
   "metadata": {},
   "source": [
    "1. MAKE SURE YOUR FILE IS CUBIC SYMMMETRY\n",
    "2. RUN ANY NEEDED CODE\n",
    "3. THIS PROGRAM IS IN BETA, BUGS AND ERRORS MAY OCCUR, EMAIL stephenlimzy2008@gmail.com TO REPORT BUGS"
   ]
  },
  {
   "cell_type": "markdown",
   "metadata": {},
   "source": [
    "### Import all libraries needed (RUN THIS SCRIPT FIRST)"
   ]
  },
  {
   "cell_type": "code",
   "execution_count": 3,
   "metadata": {},
   "outputs": [],
   "source": [
    "import numpy as np #a classic library used for math functions\n",
    "import ase #used for visualization\n",
    "from ase import Atoms\n",
    "from ase.visualize import view #to view the structure\n",
    "from ase.io import read, write #to read .CIF or .XYZ files\n",
    "from ase import io #in case"
   ]
  },
  {
   "cell_type": "markdown",
   "metadata": {},
   "source": [
    "### Define File and retrieve A-Site atom and B-Site atom (NEEDED)"
   ]
  },
  {
   "cell_type": "code",
   "execution_count": 4,
   "metadata": {},
   "outputs": [
    {
     "name": "stdout",
     "output_type": "stream",
     "text": [
      "LaFeO3.cif\n"
     ]
    },
    {
     "ename": "FileNotFoundError",
     "evalue": "[Errno 2] No such file or directory: 'LaFeO3.cif'",
     "output_type": "error",
     "traceback": [
      "\u001b[1;31m---------------------------------------------------------------------------\u001b[0m",
      "\u001b[1;31mFileNotFoundError\u001b[0m                         Traceback (most recent call last)",
      "Cell \u001b[1;32mIn[4], line 5\u001b[0m\n\u001b[0;32m      3\u001b[0m FilePath \u001b[38;5;241m=\u001b[39m FileName\u001b[38;5;241m+\u001b[39mFileType\n\u001b[0;32m      4\u001b[0m \u001b[38;5;28mprint\u001b[39m(FilePath)\n\u001b[1;32m----> 5\u001b[0m File \u001b[38;5;241m=\u001b[39m \u001b[43mread\u001b[49m\u001b[43m(\u001b[49m\u001b[43mFilePath\u001b[49m\u001b[43m)\u001b[49m \u001b[38;5;66;03m#be sure to define this as your file\u001b[39;00m\n\u001b[0;32m      6\u001b[0m CompoundA \u001b[38;5;241m=\u001b[39m \u001b[38;5;124m'\u001b[39m\u001b[38;5;124m'\u001b[39m\n\u001b[0;32m      7\u001b[0m CompoundB \u001b[38;5;241m=\u001b[39m \u001b[38;5;124m'\u001b[39m\u001b[38;5;124m'\u001b[39m\n",
      "File \u001b[1;32mc:\\Users\\coolp\\AppData\\Local\\Programs\\Python\\Python312\\Lib\\site-packages\\ase\\io\\formats.py:793\u001b[0m, in \u001b[0;36mread\u001b[1;34m(filename, index, format, parallel, do_not_split_by_at_sign, **kwargs)\u001b[0m\n\u001b[0;32m    791\u001b[0m \u001b[38;5;28;01mif\u001b[39;00m index \u001b[38;5;129;01mis\u001b[39;00m \u001b[38;5;28;01mNone\u001b[39;00m:\n\u001b[0;32m    792\u001b[0m     index \u001b[38;5;241m=\u001b[39m \u001b[38;5;241m-\u001b[39m\u001b[38;5;241m1\u001b[39m\n\u001b[1;32m--> 793\u001b[0m \u001b[38;5;28mformat\u001b[39m \u001b[38;5;241m=\u001b[39m \u001b[38;5;28mformat\u001b[39m \u001b[38;5;129;01mor\u001b[39;00m \u001b[43mfiletype\u001b[49m\u001b[43m(\u001b[49m\u001b[43mfilename\u001b[49m\u001b[43m,\u001b[49m\u001b[43m \u001b[49m\u001b[43mread\u001b[49m\u001b[38;5;241;43m=\u001b[39;49m\u001b[38;5;28;43misinstance\u001b[39;49m\u001b[43m(\u001b[49m\u001b[43mfilename\u001b[49m\u001b[43m,\u001b[49m\u001b[43m \u001b[49m\u001b[38;5;28;43mstr\u001b[39;49m\u001b[43m)\u001b[49m\u001b[43m)\u001b[49m\n\u001b[0;32m    795\u001b[0m io \u001b[38;5;241m=\u001b[39m get_ioformat(\u001b[38;5;28mformat\u001b[39m)\n\u001b[0;32m    796\u001b[0m \u001b[38;5;28;01mif\u001b[39;00m \u001b[38;5;28misinstance\u001b[39m(index, (\u001b[38;5;28mslice\u001b[39m, \u001b[38;5;28mstr\u001b[39m)):\n",
      "File \u001b[1;32mc:\\Users\\coolp\\AppData\\Local\\Programs\\Python\\Python312\\Lib\\site-packages\\ase\\io\\formats.py:965\u001b[0m, in \u001b[0;36mfiletype\u001b[1;34m(filename, read, guess)\u001b[0m\n\u001b[0;32m    962\u001b[0m     \u001b[38;5;28;01mreturn\u001b[39;00m ext\n\u001b[0;32m    964\u001b[0m \u001b[38;5;28;01mif\u001b[39;00m orig_filename \u001b[38;5;241m==\u001b[39m filename:\n\u001b[1;32m--> 965\u001b[0m     fd \u001b[38;5;241m=\u001b[39m \u001b[43mopen_with_compression\u001b[49m\u001b[43m(\u001b[49m\u001b[43mfilename\u001b[49m\u001b[43m,\u001b[49m\u001b[43m \u001b[49m\u001b[38;5;124;43m'\u001b[39;49m\u001b[38;5;124;43mrb\u001b[39;49m\u001b[38;5;124;43m'\u001b[39;49m\u001b[43m)\u001b[49m\n\u001b[0;32m    966\u001b[0m \u001b[38;5;28;01melse\u001b[39;00m:\n\u001b[0;32m    967\u001b[0m     fd \u001b[38;5;241m=\u001b[39m orig_filename  \u001b[38;5;66;03m# type: ignore[assignment]\u001b[39;00m\n",
      "File \u001b[1;32mc:\\Users\\coolp\\AppData\\Local\\Programs\\Python\\Python312\\Lib\\site-packages\\ase\\io\\formats.py:597\u001b[0m, in \u001b[0;36mopen_with_compression\u001b[1;34m(filename, mode)\u001b[0m\n\u001b[0;32m    594\u001b[0m     \u001b[38;5;28;01mreturn\u001b[39;00m lzma\u001b[38;5;241m.\u001b[39mopen(filename, mode)\n\u001b[0;32m    595\u001b[0m \u001b[38;5;28;01melse\u001b[39;00m:\n\u001b[0;32m    596\u001b[0m     \u001b[38;5;66;03m# Either None or unknown string\u001b[39;00m\n\u001b[1;32m--> 597\u001b[0m     \u001b[38;5;28;01mreturn\u001b[39;00m \u001b[38;5;28;43mopen\u001b[39;49m\u001b[43m(\u001b[49m\u001b[43mfilename\u001b[49m\u001b[43m,\u001b[49m\u001b[43m \u001b[49m\u001b[43mmode\u001b[49m\u001b[43m)\u001b[49m\n",
      "\u001b[1;31mFileNotFoundError\u001b[0m: [Errno 2] No such file or directory: 'LaFeO3.cif'"
     ]
    }
   ],
   "source": [
    "FileName = \"LaFeO3\" #replace with your name\n",
    "FileType = \".cif\" #default is .cif replace with your file type\n",
    "FilePath = FileName+FileType\n",
    "print(FilePath)\n",
    "File = read(FilePath) #be sure to define this as your file\n",
    "CompoundA = ''\n",
    "CompoundB = ''\n",
    "Move = 0\n",
    "for letter in FileName:\n",
    "    if letter.isupper():\n",
    "          Move += 1\n",
    "    if Move == 1:\n",
    "            CompoundA = CompoundA + letter\n",
    "    if Move == 2:\n",
    "          CompoundB = CompoundB + letter\n",
    "print(CompoundA, CompoundB)\n",
    "    \n",
    "\n",
    "\n",
    "\n",
    "#AlternativeFile = read(\"YourFile.xyz\")\n",
    "\n"
   ]
  },
  {
   "cell_type": "markdown",
   "metadata": {},
   "source": [
    "### Convert .cif to .xyz (NEEDED)"
   ]
  },
  {
   "cell_type": "markdown",
   "metadata": {},
   "source": [
    "Depending on your needs, you may want to render your .CIF file, so to do that in VMD, we first convert to .XYZ"
   ]
  },
  {
   "cell_type": "code",
   "execution_count": null,
   "metadata": {},
   "outputs": [],
   "source": [
    "write(FileName + \".xyz\", File)\n",
    "File = FileName + \".xyz\""
   ]
  },
  {
   "cell_type": "markdown",
   "metadata": {},
   "source": [
    "### View the file (Recommended)"
   ]
  },
  {
   "cell_type": "code",
   "execution_count": null,
   "metadata": {},
   "outputs": [
    {
     "data": {
      "text/plain": [
       "<Popen: returncode: None args: ['c:\\\\Users\\\\coolp\\\\AppData\\\\Local\\\\Programs\\...>"
      ]
     },
     "execution_count": 16,
     "metadata": {},
     "output_type": "execute_result"
    }
   ],
   "source": [
    "Test = read(File)\n",
    "\n",
    "view(Test)"
   ]
  },
  {
   "cell_type": "markdown",
   "metadata": {},
   "source": [
    "### Supercell the original file and rotate accordingly(NEEDED)"
   ]
  },
  {
   "cell_type": "code",
   "execution_count": null,
   "metadata": {},
   "outputs": [
    {
     "name": "stdout",
     "output_type": "stream",
     "text": [
      "0\n",
      "['La']\n",
      "['La', 'La']\n",
      "['La', 'La', 'La']\n"
     ]
    },
    {
     "data": {
      "text/plain": [
       "<Popen: returncode: None args: ['c:\\\\Users\\\\coolp\\\\AppData\\\\Local\\\\Programs\\...>"
      ]
     },
     "execution_count": 17,
     "metadata": {},
     "output_type": "execute_result"
    }
   ],
   "source": [
    "#making huge sample to delete from\n",
    "\n",
    "# Read the original structure from an XYZ file\n",
    "atom = read(File)\n",
    "\n",
    "rotation_offset = 0 #auto 0 at first\n",
    "rotate_scale = 90 #we going by increments of 90\n",
    "\n",
    "\n",
    "supercell_atoms = make_supercell(atom, [[3, 0, 0], [0, 3, 0], [0, 0, 3]])\n",
    "corner_atoms = []\n",
    "while CompoundA not in corner_atoms:\n",
    "    corner_atoms = []\n",
    "#while the corner atoms list doesnt contain the A-site atom do:\n",
    "    supercell_atoms.rotate(rotation_offset,'z')\n",
    "    print(rotation_offset)\n",
    "    # Extract minimum x, y, and max z coordinate\n",
    "    min_x = np.max(supercell_atoms.positions[:,0])\n",
    "    min_y = np.max(supercell_atoms.positions[:,1])\n",
    "    max_z = np.min(supercell_atoms.positions[:,2])\n",
    "   \n",
    "    #not the cleanest code, however below, we are just saying if it is -0.00000000 then just go ahead and mark it as 0\n",
    "    # , if you dont, you will get a number that does not work, like -4*10^-16\n",
    "    #the whole point of the code below is to retrieve the element that is at bottom-left most after rotating\n",
    "    #x,y coordinates of smallest possible atom\n",
    "    for atom in supercell_atoms:\n",
    "        if atom.position[0] <= min_x:\n",
    "            if f\"{atom.position[0]:.8f}\" == \"-0.00000000\" :\n",
    "                min_x = -0.00000000\n",
    "            else:\n",
    "                min_x = atom.position[0]\n",
    "        if atom.position[1] <= min_y:\n",
    "            if f\"{atom.position[1]:.8f}\" == \"-0.00000000\" :\n",
    "                min_y = -0.00000000\n",
    "            else:\n",
    "                min_y = atom.position[1]\n",
    "    \n",
    "    #locate corner atom name            \n",
    "    for atom in supercell_atoms:\n",
    "        if f\"{atom.position[0]:.8f}\" == f\"{min_x:.8f}\" and f\"{atom.position[1]:.8f}\"== f\"{min_y:.8f}\":\n",
    "            corner_atoms.append(atom.symbol)\n",
    "            print(corner_atoms)\n",
    "    \n",
    "    # move the molecule into the vacuum\n",
    "    # move the molecule into the center of the vacuum\n",
    "    if rotation_offset>0:\n",
    "        displacement = [-min_x, -min_y, 0]\n",
    "        supercell_atoms.translate(displacement)\n",
    "    # Move the molecule into the vacuum\n",
    "    rotation_offset = rotation_offset+rotate_scale\n",
    "    #catom is corner atom\n",
    "#we search for the A-site atom\n",
    "\n",
    "\n",
    "\n",
    "write('SS_' + FileName + '.xyz', supercell_atoms)\n",
    "\n",
    "# Visualize the supercell\n",
    "#view(supercell_atoms)\n",
    "view(supercell_atoms)"
   ]
  },
  {
   "cell_type": "markdown",
   "metadata": {},
   "source": [
    "### Make base by removing atoms along x = 0 and y=0 (NEEDED)"
   ]
  },
  {
   "cell_type": "code",
   "execution_count": null,
   "metadata": {},
   "outputs": [
    {
     "name": "stdout",
     "output_type": "stream",
     "text": [
      "{'La': '0', 'Fe': '1', 'O': '2'}\n"
     ]
    },
    {
     "data": {
      "text/plain": [
       "<Popen: returncode: None args: ['c:\\\\Users\\\\coolp\\\\AppData\\\\Local\\\\Programs\\...>"
      ]
     },
     "execution_count": 18,
     "metadata": {},
     "output_type": "execute_result"
    }
   ],
   "source": [
    "\n",
    "# Read XYZ file into ASE Atoms object\n",
    "Bush = read('SS_' + FileName + '.xyz')\n",
    "lattice_info = None\n",
    "General = 'General_' + FileName + '.xyz'\n",
    "with open(General, 'w') as f:\n",
    "    f.write('')\n",
    "    # Print each line from the XYZ file\n",
    "with open('SS_' + FileName + '.xyz', 'r') as f:\n",
    "    for line in f:\n",
    "        if 'Lattice=' in line:\n",
    "            lattice_info = line.strip()\n",
    "\n",
    "AllElements = [atom.symbol for atom in Bush]\n",
    "TypesOfElements = []\n",
    "for Elements in AllElements:\n",
    "    if Elements not in TypesOfElements:\n",
    "        TypesOfElements.append(Elements)\n",
    "ElementCorrespondentList = {}\n",
    "for Element in TypesOfElements:\n",
    "    with open('SS_' + FileName + '.xyz', 'r') as f:\n",
    "        for line in f:\n",
    "            if Element in line:\n",
    "                Number = line[len(line)-2] #extra space at the end\n",
    "                ElementCorrespondentList[Element] = Number\n",
    "print(ElementCorrespondentList)\n",
    "\n",
    "def atom_to_xyz_line(atom):\n",
    "    symbol = atom.symbol\n",
    "    coordinates = atom.position\n",
    "    if len(symbol) == 2:\n",
    "        line = f\"{symbol}      {coordinates[0]:.8f}         {coordinates[1]:.8f}        {coordinates[2]:.8f}         {ElementCorrespondentList[atom.symbol]}\\n\"\n",
    "    else:\n",
    "        line = f\"{symbol}       {coordinates[0]:.8f}         {coordinates[1]:.8f}        {coordinates[2]:.8f}         {ElementCorrespondentList[atom.symbol]}\\n\"\n",
    "    return line\n",
    "# unoticable but important spacing for the file\n",
    "\n",
    "atomNumbers = 0\n",
    "\n",
    "for atom in Bush:\n",
    "    x = atom.position[0]\n",
    "    y = atom.position[1]\n",
    "    z = atom.position[2]\n",
    "    if x != 0 and y!=0:\n",
    "        atomNumbers = atomNumbers + 1\n",
    "\n",
    "with open(General, 'a') as f:\n",
    "    f.write(f\"{atomNumbers}\\n\")\n",
    "\n",
    "with open(General, 'a') as f:\n",
    "    f.write(f\"{lattice_info}\\n\")\n",
    "\n",
    "\n",
    "for atom in Bush:\n",
    "    x = atom.position[0]\n",
    "    y = atom.position[1]\n",
    "    z = atom.position[2]\n",
    "    if x != 0 and y!=0:\n",
    "        \n",
    "        with open(General, 'a') as f:\n",
    "            # Example usage:\n",
    "            xyz_line = atom_to_xyz_line(atom)\n",
    "            f.write(xyz_line)\n",
    "        #write('General_' + FileName + '.xyz', atom)\n",
    "\n",
    "\n",
    "#start vacuum\n",
    "# Read the molecular structure from 'General' file\n",
    "GeneralFile = read(General)\n",
    "\n",
    "# Get atomic positions to determine molecule extents\n",
    "positions = GeneralFile.get_positions()\n",
    "\n",
    "# Find the minimum and maximum coordinates of all atoms\n",
    "min_coords = np.min(GeneralFile.positions, axis=0)\n",
    "max_coords = np.max(GeneralFile.positions, axis=0)\n",
    "\n",
    "# Calculate the dimensions of the molecule\n",
    "mol_size_x = max_coords[0] - min_coords[0]\n",
    "mol_size_y = max_coords[1] - min_coords[1]\n",
    "mol_size_z = max_coords[2] - min_coords[2]\n",
    "\n",
    "# Calculate the dimensions of the vacuum box to fully enclose the rotated molecule\n",
    "vacuum_size_x = max_coords[0] - min_coords[0]\n",
    "vacuum_size_y = max_coords[1] - min_coords[1]\n",
    "vacuum_size_z = max_coords[2] - min_coords[2]\n",
    "\n",
    "# Shift the atoms to position the center of the vacuum box at one of the corners of the molecule\n",
    "center_x_rotated = min_coords[0]\n",
    "center_y_rotated = min_coords[1]\n",
    "center_z_rotated = min_coords[2]\n",
    "GeneralFile.positions -= [center_x_rotated, center_y_rotated, center_z_rotated]\n",
    "\n",
    "# Set the cell parameters of the vacuum box\n",
    "GeneralFile.set_cell([vacuum_size_x, vacuum_size_y, vacuum_size_z])\n",
    "\n",
    "# Write the modified structure back to 'General' file\n",
    "write(General, GeneralFile)\n",
    "\n",
    "#we vacuum the structure tightly\n",
    "\n",
    "view(read(General))"
   ]
  },
  {
   "cell_type": "markdown",
   "metadata": {},
   "source": [
    "### Declare layers to make Site Base (NEEDED)"
   ]
  },
  {
   "cell_type": "markdown",
   "metadata": {},
   "source": [
    "This is seperate code because it is a very complicated process"
   ]
  },
  {
   "cell_type": "code",
   "execution_count": null,
   "metadata": {},
   "outputs": [
    {
     "name": "stdout",
     "output_type": "stream",
     "text": [
      "Z_1.9785885:[['Fe', 0.0, 0.0, 0], ['Fe', 0.0, 3.9571769999999997, 6], ['O', 0.0, 1.9785885, 7], ['Fe', 0.0, 7.914354, 15], ['O', 0.0, 5.9357655000000005, 16], ['Fe', 3.9571769999999997, 0.0, 24], ['O', 1.9785885, 0.0, 25], ['Fe', 3.9571769999999997, 3.9571769999999997, 34], ['O', 1.9785885, 3.9571769999999997, 35], ['O', 3.9571769999999997, 1.9785885, 36], ['Fe', 3.9571769999999997, 7.914354, 49], ['O', 1.9785885, 7.914354, 50], ['O', 3.9571769999999997, 5.9357655000000005, 51], ['Fe', 7.914354, 0.0, 63], ['O', 5.9357655000000005, 0.0, 64], ['Fe', 7.914354, 3.9571769999999997, 73], ['O', 5.9357655000000005, 3.9571769999999997, 74], ['O', 7.914354, 1.9785885, 75], ['Fe', 7.914354, 7.914354, 88], ['O', 5.9357655000000005, 7.914354, 89], ['O', 7.914354, 5.9357655000000005, 90]]\n",
      "Z_0.0:[['O', 0.0, 0.0, 1], ['O', 0.0, 3.9571769999999997, 8], ['O', 0.0, 7.914354, 17], ['O', 3.9571769999999997, 0.0, 26], ['La', 1.9785885, 1.9785885, 33], ['O', 3.9571769999999997, 3.9571769999999997, 37], ['La', 1.9785885, 5.9357655000000005, 48], ['O', 3.9571769999999997, 7.914354, 52], ['O', 7.914354, 0.0, 65], ['La', 5.9357655000000005, 1.9785885, 72], ['O', 7.914354, 3.9571769999999997, 76], ['La', 5.9357655000000005, 5.9357655000000005, 87], ['O', 7.914354, 7.914354, 91]]\n",
      "Z_5.9357655:[['Fe', 0.0, 0.0, 2], ['Fe', 0.0, 3.9571769999999997, 9], ['O', 0.0, 1.9785885, 10], ['Fe', 0.0, 7.914354, 18], ['O', 0.0, 5.9357655000000005, 19], ['Fe', 3.9571769999999997, 0.0, 27], ['O', 1.9785885, 0.0, 28], ['Fe', 3.9571769999999997, 3.9571769999999997, 39], ['O', 1.9785885, 3.9571769999999997, 40], ['O', 3.9571769999999997, 1.9785885, 41], ['Fe', 3.9571769999999997, 7.914354, 54], ['O', 1.9785885, 7.914354, 55], ['O', 3.9571769999999997, 5.9357655000000005, 56], ['Fe', 7.914354, 0.0, 66], ['O', 5.9357655000000005, 0.0, 67], ['Fe', 7.914354, 3.9571769999999997, 78], ['O', 5.9357655000000005, 3.9571769999999997, 79], ['O', 7.914354, 1.9785885, 80], ['Fe', 7.914354, 7.914354, 93], ['O', 5.9357655000000005, 7.914354, 94], ['O', 7.914354, 5.9357655000000005, 95]]\n",
      "Z_3.957177:[['O', 0.0, 0.0, 3], ['O', 0.0, 3.9571769999999997, 11], ['O', 0.0, 7.914354, 20], ['O', 3.9571769999999997, 0.0, 29], ['La', 1.9785885, 1.9785885, 38], ['O', 3.9571769999999997, 3.9571769999999997, 42], ['La', 1.9785885, 5.9357655000000005, 53], ['O', 3.9571769999999997, 7.914354, 57], ['O', 7.914354, 0.0, 68], ['La', 5.9357655000000005, 1.9785885, 77], ['O', 7.914354, 3.9571769999999997, 81], ['La', 5.9357655000000005, 5.9357655000000005, 92], ['O', 7.914354, 7.914354, 96]]\n",
      "Z_9.8929425:[['Fe', 0.0, 0.0, 4], ['Fe', 0.0, 3.9571769999999997, 12], ['O', 0.0, 1.9785885, 13], ['Fe', 0.0, 7.914354, 21], ['O', 0.0, 5.9357655000000005, 22], ['Fe', 3.9571769999999997, 0.0, 30], ['O', 1.9785885, 0.0, 31], ['Fe', 3.9571769999999997, 3.9571769999999997, 44], ['O', 1.9785885, 3.9571769999999997, 45], ['O', 3.9571769999999997, 1.9785885, 46], ['Fe', 3.9571769999999997, 7.914354, 59], ['O', 1.9785885, 7.914354, 60], ['O', 3.9571769999999997, 5.9357655000000005, 61], ['Fe', 7.914354, 0.0, 69], ['O', 5.9357655000000005, 0.0, 70], ['Fe', 7.914354, 3.9571769999999997, 83], ['O', 5.9357655000000005, 3.9571769999999997, 84], ['O', 7.914354, 1.9785885, 85], ['Fe', 7.914354, 7.914354, 98], ['O', 5.9357655000000005, 7.914354, 99], ['O', 7.914354, 5.9357655000000005, 100]]\n",
      "Z_7.914354:[['O', 0.0, 0.0, 5], ['O', 0.0, 3.9571769999999997, 14], ['O', 0.0, 7.914354, 23], ['O', 3.9571769999999997, 0.0, 32], ['La', 1.9785885, 1.9785885, 43], ['O', 3.9571769999999997, 3.9571769999999997, 47], ['La', 1.9785885, 5.9357655000000005, 58], ['O', 3.9571769999999997, 7.914354, 62], ['O', 7.914354, 0.0, 71], ['La', 5.9357655000000005, 1.9785885, 82], ['O', 7.914354, 3.9571769999999997, 86], ['La', 5.9357655000000005, 5.9357655000000005, 97], ['O', 7.914354, 7.914354, 101]]\n",
      "[15, 49, 50, 63, 73, 75, 88, 89, 90, 17, 52, 65, 76, 91, 18, 54, 55, 66, 78, 80, 93, 94, 95, 20, 57, 68, 81, 96, 21, 59, 60, 69, 83, 85, 98, 99, 100, 23, 62, 71, 86, 101]\n"
     ]
    },
    {
     "data": {
      "text/plain": [
       "<Popen: returncode: None args: ['c:\\\\Users\\\\coolp\\\\AppData\\\\Local\\\\Programs\\...>"
      ]
     },
     "execution_count": 19,
     "metadata": {},
     "output_type": "execute_result"
    }
   ],
   "source": [
    "# identify the layers using id's of elements\n",
    "TypeOfZ = []\n",
    "for atom in GeneralFile:\n",
    "    ULI = atom.position[2] #unique layer identifier\n",
    "    if ULI not in TypeOfZ:\n",
    "        TypeOfZ.append(ULI)\n",
    "# we are essentially getting all layers coordinates, then we can determine the atoms info in that layer by assigning each layer\n",
    "# a specific list/matrix\n",
    "for Z in TypeOfZ:\n",
    "    ZLayerName = \"Z_\"+str(Z)\n",
    "    globals()[ZLayerName] = []\n",
    "    for atom in GeneralFile:\n",
    "        if atom.position[2] == Z:\n",
    "            if [atom.symbol,atom.position[0],atom.position[1],atom.index] not in globals()[ZLayerName]:\n",
    "                globals()[ZLayerName].append([atom.symbol,atom.position[0],atom.position[1],atom.index])\n",
    "    print(f\"{ZLayerName}:{globals()[ZLayerName]}\")\n",
    "\n",
    "GreatestXVal = 0\n",
    "GreatestYVal = 0\n",
    "IndexesToDelete = []\n",
    "#find greatest X and Y\n",
    "for atom in GeneralFile:\n",
    "    if atom.position[0] > GreatestXVal:\n",
    "        GreatestXVal = atom.position[0]\n",
    "    if atom.position[1] > GreatestXVal:\n",
    "        GreatestYVal = atom.position[1]\n",
    "\n",
    "#loop through looking for indexes with those greatest x or y\n",
    "for Z in TypeOfZ:\n",
    "    ZLayerName = \"Z_\"+str(Z)\n",
    "    for atom_info in globals()[ZLayerName]:\n",
    "        if GreatestXVal in atom_info and atom_info[3] not in IndexesToDelete:\n",
    "            IndexesToDelete.append(atom_info[3])\n",
    "print(IndexesToDelete)\n",
    "#add atoms info into specific z layer\n",
    "#0th index is symbol, x is 1st index, y is 2nd index, index OF ATOM is 3rd index\n",
    "atomNumbersG = 0\n",
    "for atom in GeneralFile:\n",
    "    atomNumbersG = atomNumbersG + 1\n",
    "SiteBase = \"SB_\" + FileName + \".xyz\"\n",
    "with open(SiteBase, 'w') as f:\n",
    "    f.write('')\n",
    "atomNumbersG = atomNumbersG - len(IndexesToDelete)\n",
    "\n",
    "def atom_to_xyz_line(atom):\n",
    "    symbol = atom.symbol\n",
    "    coordinates = atom.position\n",
    "    if len(symbol) == 2:\n",
    "        line = f\"{symbol}      {coordinates[0]:.8f}         {coordinates[1]:.8f}        {coordinates[2]:.8f}         {ElementCorrespondentList[atom.symbol]}\\n\"\n",
    "    else:\n",
    "        line = f\"{symbol}       {coordinates[0]:.8f}         {coordinates[1]:.8f}        {coordinates[2]:.8f}         {ElementCorrespondentList[atom.symbol]}\\n\"\n",
    "    return line\n",
    "\n",
    "\n",
    "#prep titles\n",
    "with open('General_' + FileName + '.xyz', 'r') as f:\n",
    "    for line in f:\n",
    "        if 'Lattice=' in line:\n",
    "            lattice_info = line.strip()\n",
    "with open(SiteBase, 'a') as f:\n",
    "    f.write(f\"{atomNumbersG}\\n\")\n",
    "\n",
    "with open(SiteBase, 'a') as f:\n",
    "    f.write(f\"{lattice_info}\\n\")\n",
    "\n",
    "for atom in GeneralFile:\n",
    "    if atom.index not in IndexesToDelete:\n",
    "        with open(SiteBase, 'a') as f:\n",
    "            f.write(f\"{atom_to_xyz_line(atom)}\")\n",
    "            \n",
    "ViewBase = read(SiteBase)\n",
    "view(ViewBase)"
   ]
  },
  {
   "cell_type": "markdown",
   "metadata": {},
   "source": [
    "### Make A-Site(NEEDED)"
   ]
  },
  {
   "cell_type": "code",
   "execution_count": null,
   "metadata": {},
   "outputs": [
    {
     "name": "stdout",
     "output_type": "stream",
     "text": [
      "['Z_0.0', 'Z_1.9785885', 'Z_3.957177', 'Z_5.9357655', 'Z_7.914354', 'Z_9.8929425']\n",
      "B-Layers: ['Z_1.9785885', 'Z_5.9357655', 'Z_9.8929425']\n",
      "A-Layers: ['Z_0.0', 'Z_3.957177', 'Z_7.914354']\n",
      "Z_9.8929425\n",
      "['A', 'B', 'A', 'B', 'A', 'B']\n",
      "[['Fe', 0.0, 0.0, 4], ['Fe', 0.0, 3.957177, 12], ['O', 0.0, 1.9785885, 13], ['O', 0.0, 5.9357655, 17], ['Fe', 3.957177, 0.0, 24], ['O', 1.9785885, 0.0, 25], ['Fe', 3.957177, 3.957177, 38], ['O', 1.9785885, 3.957177, 39], ['O', 3.957177, 1.9785885, 40], ['O', 3.957177, 5.9357655, 47], ['O', 5.9357655, 0.0, 50], ['O', 5.9357655, 3.957177, 56]]\n"
     ]
    },
    {
     "data": {
      "text/plain": [
       "<Popen: returncode: None args: ['c:\\\\Users\\\\coolp\\\\AppData\\\\Local\\\\Programs\\...>"
      ]
     },
     "execution_count": 20,
     "metadata": {},
     "output_type": "execute_result"
    }
   ],
   "source": [
    "#all layers\n",
    "AllLayers = []\n",
    "for Z in TypeOfZ:\n",
    "    ZLayerName = \"Z_\"+str(Z)\n",
    "    AllLayers.append(ZLayerName)\n",
    "AllLayers = sorted(AllLayers)\n",
    "print(AllLayers)\n",
    "\n",
    "#second we read the z layers\n",
    "BSiteLayers = [] #aka possible Layers to delete for a site\n",
    "for Z in TypeOfZ:\n",
    "    ZLayerName = \"Z_\"+str(Z)\n",
    "    for atominfo in globals()[ZLayerName]:\n",
    "        if atominfo[0] == CompoundB and ZLayerName not in BSiteLayers: #we get the B-site layers\n",
    "            BSiteLayers.append(ZLayerName)\n",
    "print(\"B-Layers:\" , BSiteLayers)\n",
    "\n",
    "\n",
    "ASiteLayers = [] #aka possible Layers to delete for b site\n",
    "for Z in TypeOfZ:\n",
    "    ZLayerName = \"Z_\"+str(Z)\n",
    "    for atominfo in globals()[ZLayerName]:\n",
    "        if atominfo[0] == CompoundA and ZLayerName not in ASiteLayers: #we get the A-site layers\n",
    "            ASiteLayers.append(ZLayerName)\n",
    "print(\"A-Layers:\" , ASiteLayers)\n",
    "VisualizeLayers = []\n",
    "for Layer in AllLayers:\n",
    "    if Layer in BSiteLayers:\n",
    "        VisualizeLayers.append(\"B\")\n",
    "    elif Layer in ASiteLayers:\n",
    "        VisualizeLayers.append(\"A\")\n",
    "\n",
    "\n",
    "#lets make A site first\n",
    "if VisualizeLayers[0] == 'B':\n",
    "    AtomsLayer = AllLayers[0]+\"_SB\"\n",
    "    print(AllLayers[0])\n",
    "elif VisualizeLayers[len(VisualizeLayers)-1] == 'B':\n",
    "    AtomsLayer = AllLayers[len(VisualizeLayers)-1]+\"_SB\"\n",
    "    print(AllLayers[len(VisualizeLayers)-1])\n",
    "print(VisualizeLayers)\n",
    "for ZLayer in AllLayers:\n",
    "    ZLayerNameSB = str(ZLayer)+\"_SB\"\n",
    "    globals()[ZLayerNameSB] = []\n",
    "\n",
    "for atom in read(SiteBase):\n",
    "    ZLayerNameSB = \"Z_\"+str(atom.position[2])+\"_SB\"\n",
    "    globals()[ZLayerNameSB].append([atom.symbol,atom.position[0],atom.position[1],atom.index])\n",
    "\n",
    "\n",
    "FileA = \"ASite_\"+FileName + \".xyz\"\n",
    "FileB = \"BSite_\"+FileName + \".xyz\"\n",
    "\n",
    "AtomsOnLayer = globals()[AtomsLayer]\n",
    "\n",
    "\n",
    "def atom_to_xyz_line(atom):\n",
    "    symbol = atom.symbol\n",
    "    coordinates = atom.position\n",
    "    if len(symbol) == 2:\n",
    "        line = f\"{symbol}      {coordinates[0]:.8f}         {coordinates[1]:.8f}        {coordinates[2]:.8f}         {ElementCorrespondentList[atom.symbol]}\\n\"\n",
    "    else:\n",
    "        line = f\"{symbol}       {coordinates[0]:.8f}         {coordinates[1]:.8f}        {coordinates[2]:.8f}         {ElementCorrespondentList[atom.symbol]}\\n\"\n",
    "    return line\n",
    "print(AtomsOnLayer)\n",
    "\n",
    "with open(FileA, 'w') as f:\n",
    "    f.write('')\n",
    "#prep titles\n",
    "with open('SB_' + FileName + '.xyz', 'r') as f:\n",
    "    for line in f:\n",
    "        if 'Lattice=' in line:\n",
    "            lattice_info = line.strip()\n",
    "\n",
    "atomNumbersL = len(read(SiteBase))-len(AtomsOnLayer)\n",
    "with open(FileA, 'a') as f:\n",
    "    f.write(f\"{atomNumbersL}\\n\")\n",
    "\n",
    "with open(FileA, 'a') as f:\n",
    "    f.write(f\"{lattice_info}\\n\")\n",
    "\n",
    "for atom in read(SiteBase):\n",
    "    if [atom.symbol, atom.position[0], atom.position[1], atom.index] not in AtomsOnLayer:\n",
    "        with open(FileA, 'a') as f:\n",
    "            f.write(atom_to_xyz_line(atom))\n",
    "atoms = read(FileA)\n",
    "cell_params = atoms.get_cell()\n",
    "# Modify the cell dimensions to change vacuum size (adjust along the z-axis)\n",
    "vacuum_size = 10.0  # Adjust this value to change the size of the vacuum\n",
    "cell_params[2, 2] += vacuum_size  # Increase or decrease vacuum size along z-axis\n",
    "# Calculate current middle along the z-axis\n",
    "middle_z = (cell_params[2, 2] + cell_params[0, 2]) / 2.0\n",
    "\n",
    "# Calculate shift needed to center the structure\n",
    "shift_z = middle_z - np.mean(atoms.positions[:, 2])\n",
    "\n",
    "# Shift positions of all atoms to center the vacuum\n",
    "atoms.positions[:, 2] += shift_z\n",
    "\n",
    "# Set the modified cell parameters back to the structure\n",
    "atoms.set_cell(cell_params)\n",
    "write(FileA, atoms)\n",
    "view(read(FileA))"
   ]
  },
  {
   "cell_type": "markdown",
   "metadata": {},
   "source": [
    "### Make B-Site (NEEDED)"
   ]
  },
  {
   "cell_type": "code",
   "execution_count": null,
   "metadata": {},
   "outputs": [
    {
     "name": "stdout",
     "output_type": "stream",
     "text": [
      "['Z_0.0', 'Z_1.9785885', 'Z_3.957177', 'Z_5.9357655', 'Z_7.914354', 'Z_9.8929425']\n",
      "B-Layers: ['Z_1.9785885', 'Z_5.9357655', 'Z_9.8929425']\n",
      "A-Layers: ['Z_0.0', 'Z_3.957177', 'Z_7.914354']\n",
      "Z_0.0\n",
      "['A', 'B', 'A', 'B', 'A', 'B']\n",
      "[['O', 0.0, 0.0, 1], ['O', 0.0, 3.957177, 8], ['O', 3.957177, 0.0, 20], ['La', 1.9785885, 1.9785885, 27], ['O', 3.957177, 3.957177, 31], ['La', 1.9785885, 5.9357655, 42], ['La', 5.9357655, 1.9785885, 51], ['La', 5.9357655, 5.9357655, 57]]\n"
     ]
    },
    {
     "data": {
      "text/plain": [
       "<Popen: returncode: None args: ['c:\\\\Users\\\\coolp\\\\AppData\\\\Local\\\\Programs\\...>"
      ]
     },
     "execution_count": 21,
     "metadata": {},
     "output_type": "execute_result"
    }
   ],
   "source": [
    "#all layers\n",
    "AllLayers = []\n",
    "for Z in TypeOfZ:\n",
    "    ZLayerName = \"Z_\"+str(Z)\n",
    "    AllLayers.append(ZLayerName)\n",
    "AllLayers = sorted(AllLayers)\n",
    "print(AllLayers)\n",
    "\n",
    "#second we read the z layers\n",
    "BSiteLayers = [] #aka possible Layers to delete for a site\n",
    "for Z in TypeOfZ:\n",
    "    ZLayerName = \"Z_\"+str(Z)\n",
    "    for atominfo in globals()[ZLayerName]:\n",
    "        if atominfo[0] == CompoundB and ZLayerName not in BSiteLayers: #we get the B-site layers\n",
    "            BSiteLayers.append(ZLayerName)\n",
    "print(\"B-Layers:\" , BSiteLayers)\n",
    "\n",
    "\n",
    "ASiteLayers = [] #aka possible Layers to delete for b site\n",
    "for Z in TypeOfZ:\n",
    "    ZLayerName = \"Z_\"+str(Z)\n",
    "    for atominfo in globals()[ZLayerName]:\n",
    "        if atominfo[0] == CompoundA and ZLayerName not in ASiteLayers: #we get the A-site layers\n",
    "            ASiteLayers.append(ZLayerName)\n",
    "print(\"A-Layers:\" , ASiteLayers)\n",
    "VisualizeLayers = []\n",
    "for Layer in AllLayers:\n",
    "    if Layer in BSiteLayers:\n",
    "        VisualizeLayers.append(\"B\")\n",
    "    elif Layer in ASiteLayers:\n",
    "        VisualizeLayers.append(\"A\")\n",
    "\n",
    "\n",
    "#lets make B site second\n",
    "if VisualizeLayers[0] == 'A':\n",
    "    AtomsLayer = AllLayers[0]+\"_SB\"\n",
    "    print(AllLayers[0])\n",
    "elif VisualizeLayers[len(VisualizeLayers)-1] == 'A':\n",
    "    AtomsLayer = AllLayers[len(VisualizeLayers)-1]+\"_SB\"\n",
    "    print(AllLayers[len(VisualizeLayers)-1])\n",
    "print(VisualizeLayers)\n",
    "for ZLayer in AllLayers:\n",
    "    ZLayerNameSB = str(ZLayer)+\"_SB\"\n",
    "    globals()[ZLayerNameSB] = []\n",
    "\n",
    "for atom in read(SiteBase):\n",
    "    ZLayerNameSB = \"Z_\"+str(atom.position[2])+\"_SB\"\n",
    "    globals()[ZLayerNameSB].append([atom.symbol,atom.position[0],atom.position[1],atom.index])\n",
    "\n",
    "FileB = \"BSite_\"+FileName + \".xyz\"\n",
    "\n",
    "AtomsOnLayer = globals()[AtomsLayer]\n",
    "\n",
    "\n",
    "def atom_to_xyz_line(atom):\n",
    "    symbol = atom.symbol\n",
    "    coordinates = atom.position\n",
    "    if len(symbol) == 2:\n",
    "        line = f\"{symbol}      {coordinates[0]:.8f}         {coordinates[1]:.8f}        {coordinates[2]:.8f}         {ElementCorrespondentList[atom.symbol]}\\n\"\n",
    "    else:\n",
    "        line = f\"{symbol}       {coordinates[0]:.8f}         {coordinates[1]:.8f}        {coordinates[2]:.8f}         {ElementCorrespondentList[atom.symbol]}\\n\"\n",
    "    return line\n",
    "print(AtomsOnLayer)\n",
    "\n",
    "with open(FileB, 'w') as f:\n",
    "    f.write('')\n",
    "#prep titles\n",
    "with open('SB_' + FileName + '.xyz', 'r') as f:\n",
    "    for line in f:\n",
    "        if 'Lattice=' in line:\n",
    "            lattice_info = line.strip()\n",
    "\n",
    "atomNumbersL = len(read(SiteBase))-len(AtomsOnLayer)\n",
    "with open(FileB, 'a') as f:\n",
    "    f.write(f\"{atomNumbersL}\\n\")\n",
    "\n",
    "with open(FileB, 'a') as f:\n",
    "    f.write(f\"{lattice_info}\\n\")\n",
    "\n",
    "for atom in read(SiteBase):\n",
    "    if [atom.symbol, atom.position[0], atom.position[1], atom.index] not in AtomsOnLayer:\n",
    "        with open(FileB, 'a') as f:\n",
    "            f.write(atom_to_xyz_line(atom))\n",
    "atoms = read(FileB)\n",
    "cell_params = atoms.get_cell()\n",
    "# Modify the cell dimensions to change vacuum size (adjust along the z-axis)\n",
    "vacuum_size = 10.0  # Adjust this value to change the size of the vacuum\n",
    "cell_params[2, 2] += vacuum_size  # Increase or decrease vacuum size along z-axis\n",
    "# Calculate current middle along the z-axis\n",
    "middle_z = (cell_params[2, 2] + cell_params[0, 2]) / 2.0\n",
    "\n",
    "# Calculate shift needed to center the structure\n",
    "shift_z = middle_z - np.mean(atoms.positions[:, 2])\n",
    "\n",
    "# Shift positions of all atoms to center the vacuum\n",
    "atoms.positions[:, 2] += shift_z\n",
    "\n",
    "# Set the modified cell parameters back to the structure\n",
    "atoms.set_cell(cell_params)\n",
    "write(FileB, atoms)\n",
    "view(read(FileB))"
   ]
  }
 ],
 "metadata": {
  "kernelspec": {
   "display_name": "Python 3",
   "language": "python",
   "name": "python3"
  },
  "language_info": {
   "codemirror_mode": {
    "name": "ipython",
    "version": 3
   },
   "file_extension": ".py",
   "mimetype": "text/x-python",
   "name": "python",
   "nbconvert_exporter": "python",
   "pygments_lexer": "ipython3",
   "version": "3.12.3"
  }
 },
 "nbformat": 4,
 "nbformat_minor": 2
}
