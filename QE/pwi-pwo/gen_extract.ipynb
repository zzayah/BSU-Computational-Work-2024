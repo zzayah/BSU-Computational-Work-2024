{
 "cells": [
  {
   "cell_type": "markdown",
   "metadata": {},
   "source": [
    "# General Imports"
   ]
  },
  {
   "cell_type": "code",
   "execution_count": 1,
   "metadata": {},
   "outputs": [],
   "source": [
    "import os\n",
    "import shutil\n",
    "import re\n",
    "import csv\n",
    "import pandas as pd\n",
    "from ase import io, atoms\n",
    "from ase.build import surface, make_supercell, add_adsorbate, bulk\n",
    "from ase.io import write, read\n",
    "from ase.visualize import view\n",
    "from ase.calculators.espresso import Espresso, EspressoProfile\n",
    "from ase.optimize import LBFGS"
   ]
  },
  {
   "cell_type": "markdown",
   "metadata": {},
   "source": [
    "# .PWI File Generation (Grid)"
   ]
  },
  {
   "cell_type": "markdown",
   "metadata": {},
   "source": [
    "#### Required Perameters"
   ]
  },
  {
   "cell_type": "code",
   "execution_count": 6,
   "metadata": {},
   "outputs": [],
   "source": [
    "# Directory perameters\n",
    "material = \"SrCoO3_A.xyz\"\n",
    "\n",
    "# Cluster peram\n",
    "cluster_name = \"zayahcortright\"\n",
    "cluster_command = \"\"\n",
    "\n",
    "# Define aborbate name(s)\n",
    "options = [\"O\", \"H\", \"OOH\", \"OH\"]"
   ]
  },
  {
   "cell_type": "code",
   "execution_count": 7,
   "metadata": {},
   "outputs": [],
   "source": [
    "# QE perameters\n",
    "\n",
    "# Pseudopotentials\n",
    "pseudopotentials = {\n",
    "    'Ti': 'Ti.pbe-spn-kjpaw_psl.1.0.0.UPF', # 35 (280)\n",
    "    \"La\": \"La.paw.z_11.atompaw.wentzcovitch.v1.2.upf\", # 40 (320)\n",
    "    \"Co\": \"Co_pbe_v1.2.uspp.F.UPF\", # 45 (360)\n",
    "    \"O\": \"O.pbe-n-kjpaw_psl.0.1.UPF\", # 50 (400)\n",
    "    \"H\": \"H.pbe-rrkjus_psl.1.0.0.UPF\", # 60 (480)\n",
    "    \"Sr\": \"Sr_pbe_v1.uspp.F.UPF\" # 30 (240)\n",
    "}\n",
    "\n",
    "# Input data for QE .pwi files\n",
    "input_data = {\n",
    "    'system': {\n",
    "        'ecutwfc': 60, \n",
    "        'ecutrho': 480,\n",
    "        'occupations': 'smearing',\n",
    "        'smearing': 'gaussian',\n",
    "        'degauss': 0.07,\n",
    "    },\n",
    "    'control': {\n",
    "        'calculation': 'scf',\n",
    "        'restart_mode': 'from_scratch',\n",
    "        'prefix': 'pwscf',\n",
    "        'outdir': f'/bsuhome/{cluster_name}/scratch',\n",
    "        'disk_io': 'low',\n",
    "        'verbosity': 'high'\n",
    "    },\n",
    "    'electrons': {\n",
    "        'conv_thr': 1e-8,\n",
    "        'mixing_mode': 'local-TF',\n",
    "        'electron_maxstep': 200,\n",
    "        'mixing_beta': 0.15,\n",
    "        #'diagonalization': 'rmm-davidson',\n",
    "        'diagonalization': 'david',\n",
    "    }\n",
    "}"
   ]
  },
  {
   "cell_type": "markdown",
   "metadata": {},
   "source": [
    "#### Generation"
   ]
  },
  {
   "cell_type": "code",
   "execution_count": 9,
   "metadata": {},
   "outputs": [
    {
     "name": "stdout",
     "output_type": "stream",
     "text": [
      "Save this somewhere! ['SrCoO3_A\\\\SrCoO3_A_O', 'SrCoO3_A\\\\SrCoO3_A_H', 'SrCoO3_A\\\\SrCoO3_A_OOH', 'SrCoO3_A\\\\SrCoO3_A_OH']\n"
     ]
    }
   ],
   "source": [
    "profile = EspressoProfile(\n",
    "    command=f\"{cluster_command}\",\n",
    "    pseudo_dir=f\"/bsuhome/{cluster_name}/q-e/pseudo\"\n",
    ")\n",
    "\n",
    "header_folder = material[:-4]  # Create the header folder based on the material name without .xyz\n",
    "os.makedirs(header_folder, exist_ok=True)  # Ensure the header folder exists\n",
    "\n",
    "save_dirs = []\n",
    "\n",
    "read_material = io.read(material)\n",
    "\n",
    "adsorbates = {\n",
    "    \"OOH\": [(\"O\", 3), (\"O\", 3 + 1.245956), (\"H\", 3 + 1.245956 + .97907)],\n",
    "    \"OH\": [(\"O\", 3), (\"H\", 3 + .97907)],\n",
    "    \"O\": [(\"O\", 3)],\n",
    "    \"H\": [(\"H\", 3)],\n",
    "}\n",
    "\n",
    "for abs_name in options:\n",
    "    save_dir = os.path.join(header_folder, f\"{material[:-4]}_{abs_name}\")\n",
    "    save_dirs.append(save_dir)\n",
    "    if abs_name in adsorbates:\n",
    "        for i in range(8):\n",
    "            for j in range(8):\n",
    "                prev = read_material.copy()\n",
    "                for element, height in adsorbates[abs_name]:\n",
    "                    add_adsorbate(read_material, element, height=height, position=(7.8254 * (i / 7), 7.8254 * (j / 7)))\n",
    "\n",
    "                bin_folder = \"0\" if i < 4 else \"1\"\n",
    "                dir_name = f\"{i}-{j}\"\n",
    "                file_name = f\"{i}-{j}.xyz\"\n",
    "                file_path = os.path.join(save_dir, bin_folder, dir_name)\n",
    "                os.makedirs(file_path, exist_ok=True)\n",
    "\n",
    "                io.write(os.path.join(file_path, file_name), read_material)\n",
    "\n",
    "                calc = Espresso(\n",
    "                    profile=profile,\n",
    "                    pseudopotentials=pseudopotentials,\n",
    "                    input_data=input_data,\n",
    "                    kpts=(4, 4, 1),\n",
    "                    koffset=(0, 0, 0),\n",
    "                )\n",
    "                read_material.calc = calc\n",
    "                io.espresso.write_espresso_in(\n",
    "                    os.path.join(file_path, \"espresso.pwi\"),\n",
    "                    read_material,\n",
    "                    input_data=input_data,\n",
    "                    pseudopotentials=pseudopotentials,\n",
    "                    kpts=(4, 4, 1),\n",
    "                    koffset=(0, 0, 0)\n",
    "                )\n",
    "                read_material = prev.copy()\n",
    "\n",
    "print(f\"Save this somewhere! {save_dirs}\")\n"
   ]
  },
  {
   "cell_type": "markdown",
   "metadata": {},
   "source": [
    "# Extract"
   ]
  },
  {
   "cell_type": "code",
   "execution_count": 10,
   "metadata": {},
   "outputs": [],
   "source": [
    "# Function to extract energy from file\n",
    "def extract_energy_from_file(file_path):\n",
    "    with open(file_path, \"r\") as f:\n",
    "        lines = f.readlines()\n",
    "        for line in lines:\n",
    "            if \"!    total energy\" in line:\n",
    "                # Extract the energy value using regex\n",
    "                energy = re.search(r\"[-+]?\\d*\\.\\d+|\\d+\", line)\n",
    "                if energy:\n",
    "                    return float(energy.group(0))\n",
    "    return None\n",
    "\n",
    "# Function to process folders\n",
    "def process_folders(base_path, x_start, x_end):\n",
    "    for i in range(x_start, x_end):\n",
    "        for j in range(0, 8):\n",
    "            folder_name = f\"{i}-{j}\"\n",
    "            folder_path = os.path.join(base_path, folder_name)\n",
    "            if os.path.isdir(folder_path):\n",
    "                file_path = os.path.join(folder_path, \"espresso.pwo\")\n",
    "                if os.path.isfile(file_path):\n",
    "                    energy = extract_energy_from_file(file_path)\n",
    "                    if energy is not None:\n",
    "                        df.loc[len(df)] = [i, j, energy]\n",
    "\n",
    "for folder in save_dirs:\n",
    "    # Initialize the dataframe\n",
    "    df = pd.DataFrame(columns=[\"x\", \"y\", \"SCF\"])\n",
    "\n",
    "    # Process folders in \"0\"\n",
    "    process_folders(os.path.join(folder, \"0\"), 0, 4)\n",
    "\n",
    "    # Process folders in \"1\"\n",
    "    process_folders(os.path.join(folder, \"1\"), 4, 8)\n",
    "\n",
    "    # Save the dataframe to a CSV file\n",
    "    df.to_csv(f\"{folder}_OUT.csv\", index=False)"
   ]
  },
  {
   "cell_type": "code",
   "execution_count": null,
   "metadata": {},
   "outputs": [],
   "source": []
  }
 ],
 "metadata": {
  "kernelspec": {
   "display_name": ".venv",
   "language": "python",
   "name": "python3"
  },
  "language_info": {
   "codemirror_mode": {
    "name": "ipython",
    "version": 3
   },
   "file_extension": ".py",
   "mimetype": "text/x-python",
   "name": "python",
   "nbconvert_exporter": "python",
   "pygments_lexer": "ipython3",
   "version": "3.12.3"
  }
 },
 "nbformat": 4,
 "nbformat_minor": 2
}
