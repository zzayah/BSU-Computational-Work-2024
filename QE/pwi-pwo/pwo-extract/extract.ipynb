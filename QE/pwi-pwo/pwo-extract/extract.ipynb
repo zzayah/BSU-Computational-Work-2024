{
 "cells": [
  {
   "cell_type": "markdown",
   "metadata": {},
   "source": [
    "# Input folders with 0 & 1 subdirectories and .pwo files, returns .csv files of energies and their coordinates per full grid"
   ]
  },
  {
   "cell_type": "code",
   "execution_count": 3,
   "metadata": {},
   "outputs": [],
   "source": [
    "import os\n",
    "import pandas as pd\n",
    "import re"
   ]
  },
  {
   "cell_type": "code",
   "execution_count": 7,
   "metadata": {},
   "outputs": [],
   "source": [
    "# Define the base folder name\n",
    "base_folders = [\"SrCoO3_A_OOH\"]"
   ]
  },
  {
   "cell_type": "code",
   "execution_count": 8,
   "metadata": {},
   "outputs": [],
   "source": [
    "# Initialize the dataframe\n",
    "df = pd.DataFrame(columns=[\"x\", \"y\", \"SCF\"])\n",
    "\n",
    "# Function to extract energy from file\n",
    "def extract_energy_from_file(file_path):\n",
    "    with open(file_path, \"r\") as f:\n",
    "        lines = f.readlines()\n",
    "        for line in lines:\n",
    "            if \"!    total energy\" in line:\n",
    "                # Extract the energy value using regex\n",
    "                energy = re.search(r\"[-+]?\\d*\\.\\d+|\\d+\", line)\n",
    "                if energy:\n",
    "                    return float(energy.group(0))\n",
    "    return None\n",
    "\n",
    "# Function to process folders\n",
    "def process_folders(base_path, x_start, x_end):\n",
    "    for i in range(x_start, x_end):\n",
    "        for j in range(0, 8):\n",
    "            folder_name = f\"{i}-{j}\"\n",
    "            folder_path = os.path.join(base_path, folder_name)\n",
    "            if os.path.isdir(folder_path):\n",
    "                file_path = os.path.join(folder_path, \"espresso.pwo\")\n",
    "                if os.path.isfile(file_path):\n",
    "                    energy = extract_energy_from_file(file_path)\n",
    "                    if energy is not None:\n",
    "                        df.loc[len(df)] = [i, j, energy]\n",
    "\n"
   ]
  },
  {
   "cell_type": "code",
   "execution_count": 9,
   "metadata": {},
   "outputs": [],
   "source": [
    "for base_folder in base_folders:\n",
    "    # Process folders in \"0\"\n",
    "    process_folders(os.path.join(base_folder, \"0\"), 0, 4)\n",
    "\n",
    "    # Process folders in \"1\"\n",
    "    process_folders(os.path.join(base_folder, \"1\"), 4, 8)\n",
    "\n",
    "    # Save the dataframe to a CSV file\n",
    "    df.to_csv(f\"{base_folder}_OUT.csv\", index=False)"
   ]
  }
 ],
 "metadata": {
  "kernelspec": {
   "display_name": ".venv",
   "language": "python",
   "name": "python3"
  },
  "language_info": {
   "codemirror_mode": {
    "name": "ipython",
    "version": 3
   },
   "file_extension": ".py",
   "mimetype": "text/x-python",
   "name": "python",
   "nbconvert_exporter": "python",
   "pygments_lexer": "ipython3",
   "version": "3.12.3"
  }
 },
 "nbformat": 4,
 "nbformat_minor": 2
}
