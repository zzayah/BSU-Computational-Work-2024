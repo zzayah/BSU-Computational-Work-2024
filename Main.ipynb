{
 "cells": [
  {
   "attachments": {},
   "cell_type": "markdown",
   "id": "43d50dd5",
   "metadata": {},
   "source": [
    "# COMMANDS and IMPORTS"
   ]
  },
  {
   "cell_type": "code",
   "execution_count": null,
   "id": "6bcd01d0",
   "metadata": {},
   "outputs": [],
   "source": [
    "import os\n",
    "os.environ['BIN_DIR'] = \"/bsuhome/zayahcortright/q-e/bin\"\n",
    "os.environ['ESPRESSO_PSEUDO'] = \"/bsuhome/zayahcortright/q-e/pseudo\"\n",
    "os.environ['OMP_NUM_THREADS'] = \"1\"\n",
    "os.environ['ASE_ESPRESSO_COMMAND'] = \"module restore qe && srun --mpi=pmix -p short -N 2 -n 96 -t 24:00:00 --signal=USR1@300 $BIN_DIR/pw.x -nk 2 -in PREFIX.pwi > PREFIX.pwo\""
   ]
  },
  {
   "cell_type": "code",
   "execution_count": 1,
   "id": "df747fff",
   "metadata": {},
   "outputs": [],
   "source": [
    "from ase.build import surface\n",
    "from ase.io import write\n",
    "from ase.visualize import view\n",
    "from ase.build import make_supercell\n",
    "from ase.io import read\n",
    "from ase.build import make_supercell, surface\n",
    "from ase.calculators.espresso import Espresso\n",
    "from ase.atom import Atom\n",
    "from ase.build import add_adsorbate\n",
    "import pandas as pd\n",
    "import csv\n",
    "from ase import io\n",
    "import os\n",
    "\n"
   ]
  },
  {
   "cell_type": "code",
   "execution_count": 2,
   "id": "81d128ca",
   "metadata": {},
   "outputs": [],
   "source": [
    "# Setup (General)\n",
    "# Define material structure with either .xyz or .cif file\n",
    "material = \"SrTiO3_A.cif\"\n",
    "\n",
    "# Define the name of the save files\n",
    "save_name = \"SrTiO3_A\"\n",
    "\n",
    "# Directory to save the files internally (within the current folder)\n",
    "save_dir = \"SrTiO3_A_files\"\n",
    "\n",
    "# Define aborbate name\n",
    "options = [\"O\", \"H\", \"OOH\", \"OH\", \"H2O\"]\n",
    "abs_name = options[2]\n",
    "\n",
    "# Pseudopotentials\n",
    "psuedopotentials = {\n",
    "    'Ti': 'Ti.pbe-spn-kjpaw_psl.1.0.0.UPF',\n",
    "    \"La\": \"La.paw.z_11.atompaw.wentzcovitch.v1.2.upf\",\n",
    "    \"Co\": \"Co_pbe_v1.2.uspp.F.UPF\",\n",
    "    \"O\": \"O.pbe-n-kjpaw_psl.0.1.UPF\",\n",
    "    \"H\": \"H.pbe-rrkjus_psl.1.0.0.UPF\",\n",
    "    \"Sr\": \"Sr_pbe_v1.uspp.F.UPF\"\n",
    "}\n",
    "\n",
    "# Input data for QE .pwi files\n",
    "input_data = {\n",
    "    'system': {\n",
    "        'ecutwfc': 60, \n",
    "        'ecutrho': 480,\n",
    "    },\n",
    "    'control': {\n",
    "        'calculation': 'scf',\n",
    "        'restart_mode': 'from_scratch',\n",
    "        'prefix': 'pwscf',\n",
    "        'pseudo_dir': '/path/to/pseudopotentials',\n",
    "        'outdir': './tmp',\n",
    "        'disk_io': 'low',\n",
    "        'verbosity': 'high'\n",
    "    },\n",
    "    'electrons': {\n",
    "        'conv_thr': 1e-8,\n",
    "        'mixing_mode': 'local-TF',\n",
    "        'mixing_beta': 0.35,\n",
    "        'diagonalization': 'david',\n",
    "    }\n",
    "}\n"
   ]
  },
  {
   "attachments": {},
   "cell_type": "markdown",
   "id": "31fda400",
   "metadata": {},
   "source": [
    "# Test & run"
   ]
  },
  {
   "attachments": {},
   "cell_type": "markdown",
   "id": "7e533ce6",
   "metadata": {},
   "source": [
    "### Test absorbate positions (A site up)"
   ]
  },
  {
   "cell_type": "code",
   "execution_count": 34,
   "id": "e168f0c6",
   "metadata": {},
   "outputs": [
    {
     "data": {
      "text/plain": [
       "<Popen: returncode: None args: ['c:\\\\Users\\\\zayah\\\\OneDrive\\\\desktop\\\\BSU-CO...>"
      ]
     },
     "execution_count": 34,
     "metadata": {},
     "output_type": "execute_result"
    }
   ],
   "source": [
    "read_material = io.read(material)\n",
    "\n",
    "# H\n",
    "# add_adsorbate(read_material, \"H\", height=(3), position=(1.1179142857142858, 1.1179142857142858))\n",
    "\n",
    "# O\n",
    "# add_adsorbate(material, \"O\", height(3), position=(1.1179142857142858, 1.1179142857142858))\n",
    "\n",
    "# OH\n",
    "# add_adsorbate(material, \"O\", height=3, position=(1.1179142857142858, 1.1179142857142858))\n",
    "# add_adsorbate(material, \"H\", height=(3+.97907), position=(1.1179142857142858, 1.1179142857142858))\n",
    "\n",
    "# OOH\n",
    "# add_adsorbate(read_material, \"O\", height=(3), position=(1.1179142857142858, 1.1179142857142858))\n",
    "# add_adsorbate(read_material, \"O\", height=(3+1.245956), position=(1.1179142857142858, 1.1179142857142858))\n",
    "# add_adsorbate(read_material, \"H\", height=(3+.97907 + 1.245956), position=(1.1179142857142858, 1.1179142857142858))\n",
    "\n",
    "view(read_material)\n"
   ]
  },
  {
   "cell_type": "code",
   "execution_count": 108,
   "id": "645b8b17",
   "metadata": {},
   "outputs": [
    {
     "name": "stdout",
     "output_type": "stream",
     "text": [
      "dict_keys(['O', 'H', 'Sr', 'Ti'])\n"
     ]
    }
   ],
   "source": [
    "import os \n",
    "import shutil\n",
    "from ase import io\n",
    "from ase.build import add_adsorbate\n",
    "from ase.calculators.espresso import Espresso\n",
    "from ase import atoms\n",
    "\n",
    "\n",
    "\n",
    "# Setup (General)\n",
    "# Define material structure with either .xyz or .cif file\n",
    "material = \"SrCoO3_A.xyz\"\n",
    "\n",
    "# Define the name of the save files\n",
    "save_name = \"SrCoO3_A_OOH\"\n",
    "\n",
    "# Directory to save the files internally (within the current folder)\n",
    "save_dir = \"SrTiO3_A_files\"\n",
    "\n",
    "# Define aborbate name\n",
    "options = [\"O\", \"H\", \"OOH\", \"OH\", \"H2O\"]\n",
    "abs_name = options[2]\n",
    "\n",
    "pseudopotentials = {\n",
    "    \"O\": \"O.pbe-n-kjpaw_psl.0.1.UPF\",\n",
    "    \"H\": \"H.pbe-rrkjus_psl.0.1.UPF\",\n",
    "    \"Sr\": \"Sr.pbe-spn-rrkjus_psl.1.0.0.UPF\",\n",
    "    'Ti': 'ti_pbe_v1.4.uspp.F.UPF',\n",
    "}\n",
    "# Input data for QE .pwi files\n",
    "input_data = {\n",
    "    'system': {\n",
    "        'ecutwfc': 60, \n",
    "        'ecutrho': 480,\n",
    "        'occupations': 'smearing',\n",
    "        'smearing': 'gaussian',\n",
    "        'deguass': 0.02, # check previous calcs for this value\n",
    "    },\n",
    "    'control': {\n",
    "        'calculation': 'scf',\n",
    "        'restart_mode': 'from_scratch',\n",
    "        'prefix': 'pwscf',\n",
    "        'pseudo_dir':'SSSP_acc_PBE',\n",
    "        'outdir': './tmp',\n",
    "        'verbosity': 'high',\n",
    "        'tprnfor': True,\n",
    "    },\n",
    "    'electrons': {\n",
    "        'conv_thr': 1e-8,\n",
    "        'mixing_mode': 'local-TF',\n",
    "        'mixing_beta': 0.35,\n",
    "        'diagonalization': 'david',\n",
    "    }\n",
    "}\n",
    "\n",
    "profile = EspressoProfile()\n",
    "\n",
    "# Read the material\n",
    "read_material = io.read(material)\n",
    "# The x and y position are calculated by the equations x = 7.8254 * (i / 7) and y = 7.8254 * (j / 7)\n",
    "if abs_name == \"OOH\":\n",
    "    for i in range(8):\n",
    "        for j in range(8):\n",
    "            prev = read_material.copy()\n",
    "\n",
    "            # Add adsorbates\n",
    "            add_adsorbate(read_material, \"O\", height=3, position=(7.8254 * (i / 7), 7.8254 * (j / 7)))\n",
    "            add_adsorbate(read_material, \"O\", height=3, position=(7.8254 * (i / 7), 7.8254 * (j / 7)))\n",
    "            add_adsorbate(read_material, \"H\", height=3, position=(7.8254 * (i / 7), 7.8254 * (j / 7)))\n",
    "\n",
    "            # Define directories and file paths\n",
    "            bin_folder = \"0\" if i < 4 else \"1\"\n",
    "            dir_name = f\"{i}-{j}\"\n",
    "            file_name = f\"{i}-{j}.xyz\"\n",
    "            file_path = os.path.join(save_dir, bin_folder, dir_name)\n",
    "\n",
    "            # Create directories if they don't exist\n",
    "            if not os.path.exists(file_path):\n",
    "                os.makedirs(file_path)\n",
    "\n",
    "            io.write(os.path.join(file_path, file_name), read_material)     \n",
    "            # Create calculator object\n",
    "            calc = Espresso(\n",
    "                profile=profile,\n",
    "                pseudopotentials=pseudopotentials,\n",
    "                input_data=input_data,\n",
    "                kpts=(4, 4, 1),\n",
    "                koffset=(0, 0, 0),\n",
    "            )\n",
    "\n",
    "            # Set the calculator and write input\n",
    "            read_material.calc = calc\n",
    "\n",
    "            io.espresso.write_espresso_in(os.path.join(file_path, \"espresso.pwi\"), read_material, input_data=input_data,pseudopotentials=pseudopotentials, kpts=(4, 4, 1), koffset=(0, 0, 0))\n",
    "            # Restore the material to its previous state\n",
    "            read_material = prev.copy()\n"
   ]
  },
  {
   "cell_type": "code",
   "execution_count": 38,
   "id": "f511a7db",
   "metadata": {},
   "outputs": [
    {
     "ename": "SyntaxError",
     "evalue": "invalid syntax (760938132.py, line 1)",
     "output_type": "error",
     "traceback": [
      "\u001b[1;36m  Cell \u001b[1;32mIn[38], line 1\u001b[1;36m\u001b[0m\n\u001b[1;33m    elif abs_name == \"OH\":\u001b[0m\n\u001b[1;37m    ^\u001b[0m\n\u001b[1;31mSyntaxError\u001b[0m\u001b[1;31m:\u001b[0m invalid syntax\n"
     ]
    }
   ],
   "source": [
    "\n",
    "if abs_name == \"OH\":\n",
    "    for i in range(8):\n",
    "        for j in range(8):\n",
    "            prev = read_material.copy()\n",
    "\n",
    "            add_adsorbate(read_material, \"O\", height=3, position=(7.8254 * (i / 7), 7.8254 * (j / 7)))\n",
    "            add_adsorbate(read_material, \"H\", height=(3+.97907), position=(7.8254 * (i / 7), 7.8254 * (j / 7)))\n",
    "\n",
    "            # save file to .xyz then remove the atoms just added\n",
    "            write(f\"{save_name}-{abs_name}-{i}-{j}.xyz\", read_material)\n",
    "            read_material = prev.copy()\n",
    "elif abs_name == \"O\":\n",
    "    for i in range(8):\n",
    "        for j in range(8):\n",
    "            prev = read_material.copy()\n",
    "            add_adsorbate(read_material, \"O\", height=3, position=(7.8254 * (i / 7), 7.8254 * (j / 7)))\n",
    "\n",
    "            # save file to .xyz then remove the atoms just added\n",
    "            write(f\"{save_name}-{abs_name}-{i}-{j}.xyz\", read_material)\n",
    "            read_material = prev.copy()\n",
    "elif abs_name == \"H\":\n",
    "    for i in range(8):\n",
    "        for j in range(8):\n",
    "            prev = read_material.copy()\n",
    "            add_adsorbate(read_material, \"H\", height=(3), position=(7.8254 * (i / 7), 7.8254 * (j / 7)))\n",
    "\n",
    "            # save file to .xyz then remove the atoms just added\n",
    "            write(f\"{save_name}-{abs_name}-{i}-{j}.xyz\", read_material)\n",
    "            read_material = prev.copy()\n"
   ]
  },
  {
   "attachments": {},
   "cell_type": "markdown",
   "id": "a65ddbd0",
   "metadata": {},
   "source": [
    "### Run iterative loop & calculations (A site up)"
   ]
  },
  {
   "cell_type": "code",
   "execution_count": 62,
   "id": "c7ce2bf3",
   "metadata": {},
   "outputs": [
    {
     "ename": "BadConfiguration",
     "evalue": "No configuration of espresso",
     "output_type": "error",
     "traceback": [
      "\u001b[1;31m---------------------------------------------------------------------------\u001b[0m",
      "\u001b[1;31mBadConfiguration\u001b[0m                          Traceback (most recent call last)",
      "Cell \u001b[1;32mIn[62], line 9\u001b[0m\n\u001b[0;32m      2\u001b[0m SrTiO3ASiteUp \u001b[38;5;241m=\u001b[39m io\u001b[38;5;241m.\u001b[39mread(SrTiO3ASiteUp)\n\u001b[0;32m      4\u001b[0m \u001b[38;5;66;03m#add hydrogen absorbate at 0,0\u001b[39;00m\n\u001b[0;32m      5\u001b[0m \u001b[38;5;66;03m# add_adsorbate(SrTiO3ASiteUp, \"H\", height=2.5, position=(0, 0))\u001b[39;00m\n\u001b[0;32m      6\u001b[0m \n\u001b[0;32m      7\u001b[0m \u001b[38;5;66;03m# view(SrTiO3ASiteUp, viewer='x3d')\u001b[39;00m\n\u001b[1;32m----> 9\u001b[0m calc \u001b[38;5;241m=\u001b[39m \u001b[43mEspresso\u001b[49m\u001b[43m(\u001b[49m\n\u001b[0;32m     10\u001b[0m \u001b[43m            \u001b[49m\u001b[43mkpts\u001b[49m\u001b[38;5;241;43m=\u001b[39;49m\u001b[43m(\u001b[49m\u001b[38;5;241;43m4\u001b[39;49m\u001b[43m,\u001b[49m\u001b[43m \u001b[49m\u001b[38;5;241;43m4\u001b[39;49m\u001b[43m,\u001b[49m\u001b[43m \u001b[49m\u001b[38;5;241;43m1\u001b[39;49m\u001b[43m)\u001b[49m\u001b[43m,\u001b[49m\n\u001b[0;32m     11\u001b[0m \u001b[43m            \u001b[49m\u001b[43moccupations\u001b[49m\u001b[38;5;241;43m=\u001b[39;49m\u001b[38;5;124;43m'\u001b[39;49m\u001b[38;5;124;43msmearing\u001b[39;49m\u001b[38;5;124;43m'\u001b[39;49m\u001b[43m,\u001b[49m\n\u001b[0;32m     12\u001b[0m \u001b[43m            \u001b[49m\u001b[43msmearing\u001b[49m\u001b[38;5;241;43m=\u001b[39;49m\u001b[38;5;124;43m'\u001b[39;49m\u001b[38;5;124;43mgaussian\u001b[39;49m\u001b[38;5;124;43m'\u001b[39;49m\u001b[43m,\u001b[49m\n\u001b[0;32m     13\u001b[0m \u001b[43m            \u001b[49m\u001b[43mdegauss\u001b[49m\u001b[38;5;241;43m=\u001b[39;49m\u001b[38;5;241;43m0.02\u001b[39;49m\u001b[43m,\u001b[49m\n\u001b[0;32m     14\u001b[0m \u001b[43m            \u001b[49m\u001b[43mecutwfc\u001b[49m\u001b[38;5;241;43m=\u001b[39;49m\u001b[38;5;241;43m60\u001b[39;49m\u001b[43m,\u001b[49m\n\u001b[0;32m     15\u001b[0m \u001b[43m            \u001b[49m\u001b[43mecutrho\u001b[49m\u001b[38;5;241;43m=\u001b[39;49m\u001b[38;5;241;43m480\u001b[39;49m\u001b[43m,\u001b[49m\n\u001b[0;32m     16\u001b[0m \u001b[43m            \u001b[49m\u001b[43mmixing_beta\u001b[49m\u001b[38;5;241;43m=\u001b[39;49m\u001b[38;5;241;43m0.15\u001b[39;49m\u001b[43m,\u001b[49m\n\u001b[0;32m     17\u001b[0m \u001b[43m            \u001b[49m\u001b[43mtot_charge\u001b[49m\u001b[38;5;241;43m=\u001b[39;49m\u001b[38;5;241;43m-\u001b[39;49m\u001b[38;5;241;43m1.0\u001b[39;49m\u001b[43m,\u001b[49m\n\u001b[0;32m     18\u001b[0m \u001b[43m            \u001b[49m\u001b[43mpseudopotentials\u001b[49m\u001b[43m \u001b[49m\u001b[38;5;241;43m=\u001b[39;49m\u001b[43m \u001b[49m\u001b[43m{\u001b[49m\n\u001b[0;32m     19\u001b[0m \u001b[43m                \u001b[49m\u001b[38;5;124;43m\"\u001b[39;49m\u001b[38;5;124;43mSr\u001b[39;49m\u001b[38;5;124;43m\"\u001b[39;49m\u001b[43m:\u001b[49m\u001b[43m \u001b[49m\u001b[38;5;124;43m\"\u001b[39;49m\u001b[38;5;124;43mSr_pbe_v1.uspp.F.UPF\u001b[39;49m\u001b[38;5;124;43m\"\u001b[39;49m\u001b[43m,\u001b[49m\n\u001b[0;32m     20\u001b[0m \u001b[43m                \u001b[49m\u001b[38;5;124;43m\"\u001b[39;49m\u001b[38;5;124;43mO\u001b[39;49m\u001b[38;5;124;43m\"\u001b[39;49m\u001b[43m:\u001b[49m\u001b[43m \u001b[49m\u001b[38;5;124;43m\"\u001b[39;49m\u001b[38;5;124;43mO.pbe-n-kjpaw_psl.0.1.UPF\u001b[39;49m\u001b[38;5;124;43m\"\u001b[39;49m\u001b[43m,\u001b[49m\n\u001b[0;32m     21\u001b[0m \u001b[43m                \u001b[49m\u001b[38;5;124;43m\"\u001b[39;49m\u001b[38;5;124;43mTi\u001b[39;49m\u001b[38;5;124;43m\"\u001b[39;49m\u001b[43m:\u001b[49m\u001b[43m \u001b[49m\u001b[38;5;124;43m\"\u001b[39;49m\u001b[38;5;124;43mti_pbe_v1.4.uspp.F.UPF\u001b[39;49m\u001b[38;5;124;43m\"\u001b[39;49m\u001b[43m,\u001b[49m\n\u001b[0;32m     22\u001b[0m \u001b[43m                \u001b[49m\u001b[38;5;124;43m\"\u001b[39;49m\u001b[38;5;124;43mH\u001b[39;49m\u001b[38;5;124;43m\"\u001b[39;49m\u001b[43m:\u001b[49m\u001b[43m \u001b[49m\u001b[38;5;124;43m\"\u001b[39;49m\u001b[38;5;124;43mH.pbe-rrkjus_psl.1.0.0.UPF\u001b[39;49m\u001b[38;5;124;43m\"\u001b[39;49m\n\u001b[0;32m     23\u001b[0m \u001b[43m        \u001b[49m\u001b[43m}\u001b[49m\u001b[43m   \u001b[49m\n\u001b[0;32m     24\u001b[0m \u001b[43m)\u001b[49m\n\u001b[0;32m     26\u001b[0m SrTiO3ASiteUp\u001b[38;5;241m.\u001b[39mset_calculator(calc)\n\u001b[0;32m     27\u001b[0m energy \u001b[38;5;241m=\u001b[39m SrTiO3ASiteUp\u001b[38;5;241m.\u001b[39mget_potential_energy()\n",
      "File \u001b[1;32mc:\\Users\\zayah\\OneDrive\\desktop\\BSU-COMP\\BSU-Computational-Work-2024\\.venv\\Lib\\site-packages\\ase\\calculators\\espresso.py:165\u001b[0m, in \u001b[0;36mEspresso.__init__\u001b[1;34m(self, profile, command, label, directory, **kwargs)\u001b[0m\n\u001b[0;32m    162\u001b[0m     warnings\u001b[38;5;241m.\u001b[39mwarn(compatibility_msg, \u001b[38;5;167;01mFutureWarning\u001b[39;00m)\n\u001b[0;32m    164\u001b[0m template \u001b[38;5;241m=\u001b[39m EspressoTemplate()\n\u001b[1;32m--> 165\u001b[0m \u001b[38;5;28;43msuper\u001b[39;49m\u001b[43m(\u001b[49m\u001b[43m)\u001b[49m\u001b[38;5;241;43m.\u001b[39;49m\u001b[38;5;21;43m__init__\u001b[39;49m\u001b[43m(\u001b[49m\n\u001b[0;32m    166\u001b[0m \u001b[43m    \u001b[49m\u001b[43mprofile\u001b[49m\u001b[38;5;241;43m=\u001b[39;49m\u001b[43mprofile\u001b[49m\u001b[43m,\u001b[49m\n\u001b[0;32m    167\u001b[0m \u001b[43m    \u001b[49m\u001b[43mtemplate\u001b[49m\u001b[38;5;241;43m=\u001b[39;49m\u001b[43mtemplate\u001b[49m\u001b[43m,\u001b[49m\n\u001b[0;32m    168\u001b[0m \u001b[43m    \u001b[49m\u001b[43mdirectory\u001b[49m\u001b[38;5;241;43m=\u001b[39;49m\u001b[43mdirectory\u001b[49m\u001b[43m,\u001b[49m\n\u001b[0;32m    169\u001b[0m \u001b[43m    \u001b[49m\u001b[43mparameters\u001b[49m\u001b[38;5;241;43m=\u001b[39;49m\u001b[43mkwargs\u001b[49m\u001b[43m,\u001b[49m\n\u001b[0;32m    170\u001b[0m \u001b[43m\u001b[49m\u001b[43m)\u001b[49m\n",
      "File \u001b[1;32mc:\\Users\\zayah\\OneDrive\\desktop\\BSU-COMP\\BSU-Computational-Work-2024\\.venv\\Lib\\site-packages\\ase\\calculators\\genericfileio.py:274\u001b[0m, in \u001b[0;36mGenericFileIOCalculator.__init__\u001b[1;34m(self, template, profile, directory, parameters)\u001b[0m\n\u001b[0;32m    272\u001b[0m \u001b[38;5;28;01mif\u001b[39;00m profile \u001b[38;5;129;01mis\u001b[39;00m \u001b[38;5;28;01mNone\u001b[39;00m:\n\u001b[0;32m    273\u001b[0m     \u001b[38;5;28;01mif\u001b[39;00m template\u001b[38;5;241m.\u001b[39mname \u001b[38;5;129;01mnot\u001b[39;00m \u001b[38;5;129;01min\u001b[39;00m \u001b[38;5;28mself\u001b[39m\u001b[38;5;241m.\u001b[39mcfg\u001b[38;5;241m.\u001b[39mparser:\n\u001b[1;32m--> 274\u001b[0m         \u001b[38;5;28;01mraise\u001b[39;00m BadConfiguration(\u001b[38;5;124mf\u001b[39m\u001b[38;5;124m'\u001b[39m\u001b[38;5;124mNo configuration of \u001b[39m\u001b[38;5;132;01m{\u001b[39;00mtemplate\u001b[38;5;241m.\u001b[39mname\u001b[38;5;132;01m}\u001b[39;00m\u001b[38;5;124m'\u001b[39m)\n\u001b[0;32m    275\u001b[0m     \u001b[38;5;28;01mtry\u001b[39;00m:\n\u001b[0;32m    276\u001b[0m         profile \u001b[38;5;241m=\u001b[39m template\u001b[38;5;241m.\u001b[39mload_profile(\u001b[38;5;28mself\u001b[39m\u001b[38;5;241m.\u001b[39mcfg)\n",
      "\u001b[1;31mBadConfiguration\u001b[0m: No configuration of espresso"
     ]
    }
   ],
   "source": [
    "SrTiO3ASiteUp = 'SrTiO3ASiteUp.cif'\n",
    "SrTiO3ASiteUp = io.read(SrTiO3ASiteUp)\n",
    "\n",
    "#add hydrogen absorbate at 0,0\n",
    "# add_adsorbate(SrTiO3ASiteUp, \"H\", height=2.5, position=(0, 0))\n",
    "\n",
    "# view(SrTiO3ASiteUp, viewer='x3d')\n",
    "\n",
    "calc = Espresso(\n",
    "            kpts=(4, 4, 1),\n",
    "            occupations='smearing',\n",
    "            smearing='gaussian',\n",
    "            degauss=0.02,\n",
    "            ecutwfc=60,\n",
    "            ecutrho=480,\n",
    "            mixing_beta=0.15,\n",
    "            tot_charge=-1.0,\n",
    "            pseudopotentials = {\n",
    "                \"Sr\": \"Sr_pbe_v1.uspp.F.UPF\",\n",
    "                \"O\": \"O.pbe-n-kjpaw_psl.0.1.UPF\",\n",
    "                \"Ti\": \"ti_pbe_v1.4.uspp.F.UPF\",\n",
    "                \"H\": \"H.pbe-rrkjus_psl.1.0.0.UPF\"\n",
    "        }   \n",
    ")\n",
    "\n",
    "SrTiO3ASiteUp.set_calculator(calc)\n",
    "energy = SrTiO3ASiteUp.get_potential_energy()"
   ]
  },
  {
   "attachments": {},
   "cell_type": "markdown",
   "id": "79cea5a1",
   "metadata": {},
   "source": [
    "### Test absorbate positions (B site up)"
   ]
  },
  {
   "cell_type": "code",
   "execution_count": null,
   "id": "5875d1f9",
   "metadata": {},
   "outputs": [],
   "source": [
    "\n",
    "SrTiO3BSiteUp = 'SrTiO3BSiteUp.cif' \n",
    "SrTiO3BSiteUp = io.read(SrTiO3BSiteUp)\n",
    "\n",
    "add_adsorbate(SrTiO3ASiteUp, \"O\", height=2.5, position=(0, 0))\n",
    "add_adsorbate(SrTiO3ASiteUp, \"O\", height=2.5, position=(7.8254, 7.8254))\n",
    "\n",
    "# view(SrTiO3BSiteUp, viewer='x3d')"
   ]
  },
  {
   "attachments": {},
   "cell_type": "markdown",
   "id": "d44fd530",
   "metadata": {},
   "source": [
    "### Run iterative loop & calculations (B site up)"
   ]
  },
  {
   "cell_type": "code",
   "execution_count": null,
   "id": "7f1c9e93",
   "metadata": {},
   "outputs": [],
   "source": []
  },
  {
   "attachments": {},
   "cell_type": "markdown",
   "id": "e77072fb-5f81-4076-9ee7-e33c0080288d",
   "metadata": {},
   "source": [
    "# K-Point Covnergence"
   ]
  },
  {
   "cell_type": "code",
   "execution_count": null,
   "id": "ff230ae6-6c35-4b43-8e2b-690ba00d0541",
   "metadata": {},
   "outputs": [],
   "source": [
    "kpoints = range(1,9) \n",
    "energies = []\n",
    "for k in kpoints:\n",
    "    calc.set(kpts=(k, k, k))\n",
    "    energies.append(atoms.get_potential_energy())\n",
    "    "
   ]
  },
  {
   "cell_type": "code",
   "execution_count": null,
   "id": "be6a7061-99e9-4f2f-a5e8-211d36b85fc3",
   "metadata": {},
   "outputs": [],
   "source": [
    "import matplotlib.pyplot as plt\n",
    "import matplotlib as mpl\n",
    "\n",
    "plt.plot(kpoints, energies)\n",
    "plt.xlabel(\"No. K-Points\")\n",
    "plt.ylabel(\"E (eV)\")\n",
    "plt.tight_layout()\n",
    "plt.show()"
   ]
  },
  {
   "cell_type": "code",
   "execution_count": null,
   "id": "88840e60-6614-40f8-bda3-cf15bb7cb38e",
   "metadata": {},
   "outputs": [],
   "source": [
    "calc.set(kpts = (8,8,8))"
   ]
  },
  {
   "attachments": {},
   "cell_type": "markdown",
   "id": "d0df1d57-98d3-4960-8f0e-012a0270cc87",
   "metadata": {},
   "source": [
    "# Equation of State Fitting"
   ]
  },
  {
   "attachments": {},
   "cell_type": "markdown",
   "id": "7f1a241e",
   "metadata": {},
   "source": [
    "## Automatic"
   ]
  },
  {
   "cell_type": "code",
   "execution_count": null,
   "id": "2204046a-2d1e-4024-bfad-6ae2bf553878",
   "metadata": {},
   "outputs": [],
   "source": [
    "from ase.eos import EquationOfState, calculate_eos\n",
    "eos = calculate_eos(atoms, trajectory='GaAs_SJ.traj', npoints=20, eps=0.75)\n",
    "v, e, B = eos.fit()\n",
    "eos.plot()\n",
    "pass"
   ]
  },
  {
   "cell_type": "code",
   "execution_count": null,
   "id": "6c95556e-a130-45c8-9773-cc696fa9d01f",
   "metadata": {},
   "outputs": [],
   "source": [
    "from ase import units\n",
    "print(B / units.kJ * 1.0e24, 'GPa')"
   ]
  },
  {
   "attachments": {},
   "cell_type": "markdown",
   "id": "398a01da",
   "metadata": {},
   "source": [
    "## Manual"
   ]
  },
  {
   "cell_type": "code",
   "execution_count": null,
   "id": "77ea69a8-0dd3-45e8-b625-b837061efe8b",
   "metadata": {},
   "outputs": [],
   "source": [
    "from ase.io.trajectory import Trajectory\n",
    "import numpy as np\n",
    "\n",
    "atoms = read(\"GaAs.cif\")\n",
    "cell = atoms.get_cell()\n",
    "atoms.calc = calc\n",
    "\n",
    "traj = Trajectory('GaAs_murnaghan.traj', 'w')\n",
    "for x in np.linspace(0.95, 1.05, 5):\n",
    "    atoms.set_cell(cell * x, scale_atoms=True)\n",
    "    atoms.get_potential_energy()\n",
    "    traj.write(atoms)\n",
    "    "
   ]
  },
  {
   "attachments": {},
   "cell_type": "markdown",
   "id": "d68c20e2",
   "metadata": {},
   "source": [
    "See full list of EOS options at https://databases.fysik.dtu.dk/ase/ase/eos.html"
   ]
  },
  {
   "cell_type": "code",
   "execution_count": null,
   "id": "b9f2044b-fa6e-4993-b3d9-265c595b117c",
   "metadata": {},
   "outputs": [],
   "source": [
    "configs = read(\"GaAs_murnaghan.traj@0:5\")\n",
    "volumes = [ag.get_volume() for ag in configs]\n",
    "energies = [ag.get_potential_energy() for ag in configs]\n",
    "eos = EquationOfState(volumes, energies, eos=\"murnaghan\")\n",
    "v0, e0, B = eos.fit()\n",
    "print(B / units.kJ * 1.0e24, 'GPa')\n",
    "eos.plot()\n",
    "pass"
   ]
  },
  {
   "attachments": {},
   "cell_type": "markdown",
   "id": "cebce761",
   "metadata": {},
   "source": [
    "# Density of States"
   ]
  },
  {
   "cell_type": "code",
   "execution_count": null,
   "id": "28432d48",
   "metadata": {},
   "outputs": [],
   "source": [
    "from ase.dft.dos import DOS\n",
    "atoms = read(\"GaAs.cif\")\n",
    "cell = atoms.get_cell()\n",
    "atoms.calc = calc\n",
    "atoms.get_potential_energy()\n",
    "efermi = calc.get_fermi_level()\n",
    "dos = DOS(calc, width=0.2)\n",
    "d = dos.get_dos()\n",
    "e = dos.get_energies()"
   ]
  },
  {
   "cell_type": "code",
   "execution_count": null,
   "id": "c605952f",
   "metadata": {},
   "outputs": [],
   "source": [
    "import matplotlib.pyplot as plt\n",
    "plt.plot(e, d)\n",
    "plt.vlines(x=efermi, ymin=0, ymax=200, color=\"k\", linestyle=\":\")\n",
    "plt.xlabel('energy [eV]')\n",
    "plt.ylabel('DOS')\n",
    "plt.show()"
   ]
  },
  {
   "cell_type": "code",
   "execution_count": null,
   "id": "5cce8995",
   "metadata": {},
   "outputs": [],
   "source": [
    "from ase.dft import get_distribution_moment\n",
    "volume = get_distribution_moment(e,d)\n",
    "center, width = get_distribution_moment(e,d,(1,2))\n",
    "print(center, \"+/-\", width)"
   ]
  },
  {
   "attachments": {},
   "cell_type": "markdown",
   "id": "09c2121f",
   "metadata": {},
   "source": [
    "# Band Structure"
   ]
  },
  {
   "cell_type": "code",
   "execution_count": null,
   "id": "906c68c2",
   "metadata": {},
   "outputs": [],
   "source": [
    "atoms = read(\"GaAs.cif\")\n",
    "atoms.calc = calc\n",
    "atoms.get_potential_energy()\n",
    "fermi_level = calc.get_fermi_level()"
   ]
  },
  {
   "cell_type": "code",
   "execution_count": null,
   "id": "a87ee21b",
   "metadata": {},
   "outputs": [],
   "source": [
    "atoms.get_cell()"
   ]
  },
  {
   "cell_type": "code",
   "execution_count": null,
   "id": "083aabd4",
   "metadata": {},
   "outputs": [],
   "source": [
    "lat = atoms.cell.get_bravais_lattice()\n",
    "print(lat.description())\n",
    "lat.plot_bz(show=True)"
   ]
  },
  {
   "cell_type": "code",
   "execution_count": null,
   "id": "30397294",
   "metadata": {},
   "outputs": [],
   "source": [
    "kpath = atoms.cell.bandpath()\n",
    "kpath"
   ]
  },
  {
   "cell_type": "code",
   "execution_count": null,
   "id": "31ac3af8",
   "metadata": {},
   "outputs": [],
   "source": [
    "input_data['control'].update(\n",
    "    {\n",
    "        'calculation':'bands',\n",
    "        'restart_mode':'restart',\n",
    "        'verbosity':'high'\n",
    "    }\n",
    ")\n",
    "calc.set(\n",
    "    kpts=kpath,\n",
    "    input_data=input_data\n",
    ")\n",
    "\n",
    "calc.calculate(atoms)\n"
   ]
  },
  {
   "cell_type": "code",
   "execution_count": null,
   "id": "1e29bbd7",
   "metadata": {},
   "outputs": [],
   "source": [
    "bs = calc.band_structure()\n",
    "bs.plot(emin=-10, emax=10)"
   ]
  },
  {
   "cell_type": "code",
   "execution_count": null,
   "id": "f726a9f5-c4a2-45e1-ae27-c286d1178f5b",
   "metadata": {},
   "outputs": [],
   "source": [
    "from ase.calculators.espresso import Espresso\n",
    "\n",
    "pseudopotentials = {\n",
    "    \"Ga\":\"Ga.pbe-dn-kjpaw_psl.1.0.0.UPF\",\n",
    "    \"As\": \"As.nc.z_15.oncvpsp3.dojo.v4-std.upf\"}\n",
    "\n",
    "input_data = {\n",
    "    'system': {\n",
    "        'ecutwfc': 43,\n",
    "        'ecutrho': 300,\n",
    "        'input_dft': \"hse\",\n",
    "    },\n",
    "    'control': {\n",
    "        'restart_mode': 'from_scratch',\n",
    "        'pseudo_dir': '../pseudos'\n",
    "    },\n",
    "    'electrons': {\n",
    "        'diagonalization':'david',\n",
    "        'conv_thr': 1.0e-8, \n",
    "        'mixing_beta':0.4\n",
    "    }\n",
    "} \n",
    "\n",
    "\n",
    "calc = Espresso(\n",
    "    pseudopotentials=pseudopotentials,\n",
    "    tstress=True, tprnfor=True, \n",
    "    input_data = input_data,\n",
    "    kpts=(2, 2, 2),\n",
    "    koffset=(0, 0, 0))\n",
    "\n",
    "atoms.calc = calc"
   ]
  },
  {
   "cell_type": "code",
   "execution_count": null,
   "id": "18fc55a0-9267-4a29-9395-48d182dab633",
   "metadata": {},
   "outputs": [],
   "source": [
    "atoms.get_potential_energy()"
   ]
  },
  {
   "cell_type": "code",
   "execution_count": null,
   "id": "b010e466-e731-44f6-bfb0-c59b37298333",
   "metadata": {},
   "outputs": [],
   "source": []
  }
 ],
 "metadata": {
  "kernelspec": {
   "display_name": ".venv",
   "language": "python",
   "name": "python3"
  },
  "language_info": {
   "codemirror_mode": {
    "name": "ipython",
    "version": 3
   },
   "file_extension": ".py",
   "mimetype": "text/x-python",
   "name": "python",
   "nbconvert_exporter": "python",
   "pygments_lexer": "ipython3",
   "version": "3.12.3"
  },
  "vscode": {
   "interpreter": {
    "hash": "49af781a92795b403ca868bce5cda34837de7765e2a256c40e99ef9855d7e55b"
   }
  }
 },
 "nbformat": 4,
 "nbformat_minor": 5
}
