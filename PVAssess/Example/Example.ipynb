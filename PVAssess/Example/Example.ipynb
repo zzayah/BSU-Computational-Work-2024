{
 "cells": [
  {
   "cell_type": "code",
   "execution_count": null,
   "metadata": {},
   "outputs": [],
   "source": [
    "# SCF DFT Characterization\n",
    "from PVAssess.input_generation import Generate\n",
    "from PVAssess.output_extraction import Extract\n",
    "\n",
    "# Symmetry Function Characterization\n",
    "from PVAssess.descriptor_gen import Descriptors\n",
    "\n",
    "# ML Characterization\n",
    "from PVAssess.cluster import Cluster\n",
    "from PVAssess.regression import Regression\n",
    "\n",
    "# Catalyst Ability Characterization\n",
    "from PVAssess.overpotential import Overpotential"
   ]
  },
  {
   "cell_type": "code",
   "execution_count": null,
   "metadata": {},
   "outputs": [],
   "source": [
    "# Overpotential(\"SrCoO3_A_O_OUT.csv\", \"SrCoO3_A_OH_OUT.csv\", \"SrCoO3_A_OOH_OUT.csv\", \"test_over.csv\", False, False, 0.0, 0.0, \"SrCoO3_A_H_OUT.csv\")"
   ]
  }
 ],
 "metadata": {
  "kernelspec": {
   "display_name": ".venv",
   "language": "python",
   "name": "python3"
  },
  "language_info": {
   "codemirror_mode": {
    "name": "ipython",
    "version": 3
   },
   "file_extension": ".py",
   "mimetype": "text/x-python",
   "name": "python",
   "nbconvert_exporter": "python",
   "pygments_lexer": "ipython3",
   "version": "3.12.3"
  }
 },
 "nbformat": 4,
 "nbformat_minor": 2
}
